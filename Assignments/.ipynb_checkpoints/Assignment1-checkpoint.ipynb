{
 "cells": [
  {
   "cell_type": "code",
   "execution_count": 1,
   "metadata": {},
   "outputs": [
    {
     "name": "stdout",
     "output_type": "stream",
     "text": [
      "Enter temperature in Fahrenheit : 50\n",
      "Temperature in Degrees : 10.0\n"
     ]
    }
   ],
   "source": [
    "# Q1.\n",
    "f = int(input(\"Enter temperature in Fahrenheit : \"))\n",
    "print(\"Temperature in Degrees : {}\".format((f-32)*(5/9)))"
   ]
  },
  {
   "cell_type": "code",
   "execution_count": 1,
   "metadata": {},
   "outputs": [
    {
     "name": "stdout",
     "output_type": "stream",
     "text": [
      "Enter the Quantity : 5\n",
      "Enter The Price of the Item : 200\n",
      "Net Amount : (1000rs)\n"
     ]
    }
   ],
   "source": [
    "# Q2.\n",
    "quantity = int(input(\"Enter the Quantity : \"))\n",
    "num = int(input(\"Enter The Price of the Item : \"))\n",
    "amount = num*quantity\n",
    "if(quantity>1000):\n",
    "    print(\"Net Amount : ({}rs)\".format((amount)))\n",
    "    print(\"- Discount : ({}rs)\".format((amount*0.1)))\n",
    "    print(\"Net Amount : ({}rs)\".format((amount-amount*0.1)))\n",
    "else:\n",
    "    print(\"Net Amount : ({}rs)\".format((amount)))\n"
   ]
  },
  {
   "cell_type": "code",
   "execution_count": 4,
   "metadata": {},
   "outputs": [
    {
     "name": "stdout",
     "output_type": "stream",
     "text": [
      "Enter Your Status  (Married/UnMarried) : UnMarrieD\n",
      "Enter the Age : 28\n",
      "Enter The Gender :(M/F)F\n",
      "Insured\n"
     ]
    }
   ],
   "source": [
    "# Q3. \n",
    "if(input(\"Enter Your Status  (Married/UnMarried) : \").lower()==\"married\"):\n",
    "    print(\"Insured\")\n",
    "else:\n",
    "    age = int(input(\"Enter the Age : \"))\n",
    "    if(age>30):\n",
    "        print(\"Insured\")\n",
    "    elif (input(\"Enter The Gender :(M/F)\").lower()==\"f\" and age>25 ):\n",
    "        print(\"Insured\")\n",
    "    else:\n",
    "        print(\"Not Insured\")\n"
   ]
  },
  {
   "cell_type": "code",
   "execution_count": 5,
   "metadata": {},
   "outputs": [
    {
     "name": "stdout",
     "output_type": "stream",
     "text": [
      "Enter the Number10\n",
      "10 is Even Number\n"
     ]
    }
   ],
   "source": [
    "# Q4.\n",
    "num = int(input(\"Enter the Number : \"))\n",
    "print(f\"{num} is Odd Number\") if num%2!=0 else print(f\"{num} is Even Number\")\n"
   ]
  },
  {
   "cell_type": "code",
   "execution_count": 12,
   "metadata": {},
   "outputs": [
    {
     "name": "stdout",
     "output_type": "stream",
     "text": [
      "20 is greater\n"
     ]
    }
   ],
   "source": [
    "# Q5. \n",
    "num1 = int(input(\"Enter The 1st Number : \"))\n",
    "num2 = int(input(\"Enter the 2nd Number : \"))\n",
    "print(f\"{num1} is greater\") if num1>num2 else print(f\"{num2} is greater\")"
   ]
  },
  {
   "cell_type": "code",
   "execution_count": 15,
   "metadata": {},
   "outputs": [
    {
     "name": "stdout",
     "output_type": "stream",
     "text": [
      "Number is Zero\n"
     ]
    }
   ],
   "source": [
    "# Q6.\n",
    "num = int(input(\"Enter the Number\"))\n",
    "print(\"Positive\") if num>0 else print(\"Negative\") if num <0 else print(\"Number is Zero\")\n"
   ]
  },
  {
   "cell_type": "code",
   "execution_count": 16,
   "metadata": {},
   "outputs": [
    {
     "name": "stdout",
     "output_type": "stream",
     "text": [
      "Gross Salary is : 20300.0\n"
     ]
    }
   ],
   "source": [
    "# Q7. \n",
    "salary = int(input(\"Enter the Salary : \"))\n",
    "if (salary<1500):\n",
    "    print(\"Gross Salary is : {}\".format((salary+0.1*salary+0.9*salary)))\n",
    "else:\n",
    "    print(\"Gross Salary is : {}\".format((salary+500+0.98*salary)))\n"
   ]
  },
  {
   "cell_type": "code",
   "execution_count": 17,
   "metadata": {},
   "outputs": [
    {
     "name": "stdout",
     "output_type": "stream",
     "text": [
      "First Division\n"
     ]
    }
   ],
   "source": [
    "# Q8.\n",
    "score = int(input(\"Enter Percentage You Obtained : \"))\n",
    "if(score>=60):\n",
    "    print(\"First Division\")\n",
    "elif(score>=50):\n",
    "    print(\"Second Division\")\n",
    "elif(score>=40):\n",
    "    print(\"Third Division\")\n",
    "else:\n",
    "    print(\"Fail\")"
   ]
  },
  {
   "cell_type": "code",
   "execution_count": null,
   "metadata": {},
   "outputs": [],
   "source": []
  }
 ],
 "metadata": {
  "kernelspec": {
   "display_name": "Python 3 (ipykernel)",
   "language": "python",
   "name": "python3"
  },
  "language_info": {
   "codemirror_mode": {
    "name": "ipython",
    "version": 3
   },
   "file_extension": ".py",
   "mimetype": "text/x-python",
   "name": "python",
   "nbconvert_exporter": "python",
   "pygments_lexer": "ipython3",
   "version": "3.10.2"
  },
  "vscode": {
   "interpreter": {
    "hash": "eeb10d17b3756d073ffb5f4d3818e34351524a6d440d7523aa8639b2cdd885e7"
   }
  }
 },
 "nbformat": 4,
 "nbformat_minor": 2
}
