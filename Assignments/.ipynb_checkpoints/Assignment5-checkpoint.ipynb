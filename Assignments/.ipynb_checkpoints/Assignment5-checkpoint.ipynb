{
 "cells": [
  {
   "cell_type": "markdown",
   "metadata": {},
   "source": [
    "1.Write a Python function to find out the maximum of three numbers.\n",
    "2.Write a Python recursive/non-recursive function to calculate the factorial of a number (a non-negative integer). The function accepts the number as an argument.\n",
    "3.Write a Python function to check whether a number falls in a given range.\n",
    "4.Write a Python function that accepts a string and find out how many characters are in upper case letters and lower case.\n",
    "5.Write a Python function that takes a number as a parameter and checks the number is prime or not. \n",
    "6.Write a Python function that takes a number as an argument and displays all prime numbers up to nth number. \n",
    "7.Write a Python function to generate the Fibonacci series up to nth number. \n",
    "8.Write a Python function sum(start, end) that adds all the integers between the start and end value (inclusive) and returns the total sum. \n",
    "9.Write a Python program that uses a user defined function that accepts name and gender (as M for Male, F for Female) and prefixes Mr. /Ms. on the basis of the gender.\n",
    "10.ABC School has allotted unique token IDs from (1 to 600) to all the parents for facilitating a lucky draw on the day of their Annual day function. The winner would receive a special prize.  Write  a  program  using  Python  that  helps  to  automate  the  task.(Hint:  use  random  module)\n",
    "11.Write a Python program to calculate sum of first ‘n’ natural numbers using recursion. \n",
    "12.Write a Python program to input two numbers from user variable x and y and performed recursive function to find out the value of xy.\n"
   ]
  },
  {
   "cell_type": "code",
   "execution_count": 14,
   "metadata": {},
   "outputs": [
    {
     "name": "stdout",
     "output_type": "stream",
     "text": [
      "The Greatest Number is 3 \n"
     ]
    }
   ],
   "source": [
    "# write a Python function to find out the maximum of three numbers.\n",
    "def MaxOfThreeNumber(a,b,c):\n",
    "    max = (a if a>c else c) if(a>b) else (b if b>c else c)\n",
    "    return max\n",
    "a,b,c = input(\"Enter the Numbers (1st) (2nd) (3rd) : \").split()\n",
    "a,b,c = int(a),int(b),int(c)\n",
    "\n",
    "if __name__ == \"__main__\":\n",
    "    MaxOfThreeNumber(a,b,c)\n",
    "    print(f\"The Greatest Number is {max} \")\n"
   ]
  },
  {
   "cell_type": "code",
   "execution_count": 24,
   "metadata": {},
   "outputs": [
    {
     "name": "stdout",
     "output_type": "stream",
     "text": [
      "The Factorial of 5 is 120\n"
     ]
    }
   ],
   "source": [
    "# write a Python recursive/Non-revursive funtion to calculate the factorial of a number (a non-negative integer) the function accepts the number as an argument.\n",
    "num = int(input(\"Enter the Number\"))\n",
    "def Factorial(n):\n",
    "    if(n==0):\n",
    "        return 1\n",
    "    else:\n",
    "        return n*Factorial(n-1)\n",
    "if __name__ == \"__main__\":\n",
    "    print(f\"The Factorial of {num} is {Factorial(num)}\")"
   ]
  },
  {
   "cell_type": "code",
   "execution_count": 27,
   "metadata": {},
   "outputs": [
    {
     "name": "stdout",
     "output_type": "stream",
     "text": [
      "Yes, 6 falls in the Range (1-9)\n"
     ]
    }
   ],
   "source": [
    "# Write a Python function to check whether a number falls in a given range.\n",
    "SRange = int(input(\"Enter The Starting Range : \"))\n",
    "LRange = int(input(\"Enter The Starting Range : \"))\n",
    "num = int(input(\"Enter The Number\"))\n",
    "for i in range(SRange,LRange):\n",
    "    if(i==num):\n",
    "        print(f\"Yes, {num} falls in the Range ({SRange}-{LRange})\")\n",
    "        break\n",
    "else:\n",
    "    print(f\"No, {num} Does not lie on the Range ({SRange}-{LRange})\")"
   ]
  },
  {
   "cell_type": "code",
   "execution_count": 1,
   "metadata": {},
   "outputs": [
    {
     "name": "stdout",
     "output_type": "stream",
     "text": [
      "Enter the String : Kanishk\n",
      "The letter has 6 Lower case letters and has 1 Upper case letter \n"
     ]
    }
   ],
   "source": [
    "#  Write a Python function that accepts a string and find out how many characters are in upper case letters and lower case.\n",
    "def str(string):\n",
    "    Ucount,Lcount = 0,0\n",
    "    for i in string:\n",
    "        if(i.islower()):\n",
    "            Lcount+=1\n",
    "        else:\n",
    "            Ucount+=1\n",
    "    print(f\"The letter has {Lcount} Lower case letters and has {Ucount} Upper case letter \")\n",
    "str(input(\"Enter the String\"))"
   ]
  },
  {
   "cell_type": "code",
   "execution_count": 45,
   "metadata": {},
   "outputs": [],
   "source": [
    "# Write a Python function that takes a number as a parameter and checks the number is prime or not. \n",
    "num = int(input(\"Enter the Number\"))\n",
    "for i in range(2,int(num/2)+1):\n",
    "    if(num% i==0):\n",
    "        print(f\"{num} is Not a Prime Number\")\n",
    "        break\n",
    "else:\n",
    "    print(f\"{num} is Prime Number\")"
   ]
  },
  {
   "cell_type": "code",
   "execution_count": 60,
   "metadata": {},
   "outputs": [
    {
     "name": "stdout",
     "output_type": "stream",
     "text": [
      "2 , 3 , 5 are the Prime Numbers\n"
     ]
    }
   ],
   "source": [
    "# Write a Python function that takes a number as an argument and displays all prime numbers up to nth number.\n",
    "for i in range(2,int(input(\"Enter the Number : \"))+1):\n",
    "    for j in range(2,int(i/2)+1):\n",
    "        if(i% j==0):\n",
    "            break\n",
    "    else:\n",
    "        print(i,end=\" , \")\n",
    "print(\"\\b\\bare the Prime Numbers\")"
   ]
  },
  {
   "cell_type": "code",
   "execution_count": 75,
   "metadata": {},
   "outputs": [
    {
     "name": "stdout",
     "output_type": "stream",
     "text": [
      "0,1,1,2,3,5 : Fibonacci Series Upto 5\n"
     ]
    }
   ],
   "source": [
    "# Write a Python function to generate the Fibonacci series up to nth number. \n",
    "def Fibonacci(num):\n",
    "    a,b=0,1\n",
    "    while(a<=num):\n",
    "        print(a,end=\",\")\n",
    "        a,b = b,b+a\n",
    "\n",
    "if __name__ ==\"__main__\":\n",
    "    num = int(input(\"Enter the Number\"))\n",
    "    Fibonacci(num)\n",
    "    print(f\"\\b : Fibonacci Series Upto {num}\")"
   ]
  },
  {
   "cell_type": "code",
   "execution_count": 85,
   "metadata": {},
   "outputs": [
    {
     "name": "stdout",
     "output_type": "stream",
     "text": [
      "15\n"
     ]
    }
   ],
   "source": [
    "# Write a Python function sum(start, end) that adds all the integers between the start and end value (inclusive) and returns the total sum. \n",
    "def Sum(start,end):\n",
    "    result = 0\n",
    "    for i in range(start,end+1):\n",
    "        result += i\n",
    "    return result\n",
    "if __name__ == \"__main__\":\n",
    "    print(Sum(1,5))"
   ]
  },
  {
   "cell_type": "code",
   "execution_count": 3,
   "metadata": {},
   "outputs": [
    {
     "name": "stdout",
     "output_type": "stream",
     "text": [
      "Mr.kanishk\n"
     ]
    }
   ],
   "source": [
    "# Write a Python program that uses a user defined function that accepts name and gender (as M for Male, F for Female) and prefixes Mr. /Ms. on \n",
    "# the basis of the gender.\n",
    "def Prefixes(name,gender):\n",
    "    if(gender==\"M\"):\n",
    "        return \"Mr.\"+name\n",
    "    else:\n",
    "        return \"Ms.\"+name\n",
    "if __name__ == \"__main__\":\n",
    "    print(Prefixes(input(\"Enter The Name : \"),input(\"Enter Your Gender : (M/F) \")))\n"
   ]
  },
  {
   "cell_type": "code",
   "execution_count": 2,
   "metadata": {},
   "outputs": [
    {
     "name": "stdout",
     "output_type": "stream",
     "text": [
      "The Prize goes to id:209 \n"
     ]
    }
   ],
   "source": [
    "# ABC School has allotted unique token IDs from (1 to 600) to all the parents for facilitating a lucky draw on the day of their Annual day function.\n",
    "# The winner would receive a special prize.  Write  a  program  using  Python  that  helps  to  automate  the  task.(Hint:  use  random  module)\n",
    "import random\n",
    "id = random.randrange(1,601)\n",
    "print(f\"The Prize goes to id:{id} \")\n"
   ]
  },
  {
   "cell_type": "code",
   "execution_count": 2,
   "metadata": {},
   "outputs": [
    {
     "name": "stdout",
     "output_type": "stream",
     "text": [
      "Enter the Number10\n",
      "55\n"
     ]
    }
   ],
   "source": [
    "# Write a Python program to calculate sum of first ‘n’ natural numbers using recursion. \n",
    "def SumofFirstNaturalNum(num):\n",
    "    if(num==0):\n",
    "        return 0\n",
    "    else:\n",
    "        return num+SumofFirstNaturalNum(num-1)\n",
    "\n",
    "if __name__ == \"__main__\":\n",
    "    print(SumofFirstNaturalNum(int(input(\"Enter the Number\"))))"
   ]
  },
  {
   "cell_type": "code",
   "execution_count": 89,
   "metadata": {},
   "outputs": [
    {
     "name": "stdout",
     "output_type": "stream",
     "text": [
      "30\n"
     ]
    }
   ],
   "source": [
    "# Write a Python program to input two numbers from user variable x and y and performed recursive function to find out the value of xy.\n",
    "def Xy(x,y):\n",
    "    return x*y\n",
    "if __name__ == \"__main__\":\n",
    "    X = int(input(\"Enter The Value of X\"))\n",
    "    Y = int(input(\"Enter The Value of Y\"))\n",
    "    print(Xy(X,Y))"
   ]
  }
 ],
 "metadata": {
  "kernelspec": {
   "display_name": "Python 3 (ipykernel)",
   "language": "python",
   "name": "python3"
  },
  "language_info": {
   "codemirror_mode": {
    "name": "ipython",
    "version": 3
   },
   "file_extension": ".py",
   "mimetype": "text/x-python",
   "name": "python",
   "nbconvert_exporter": "python",
   "pygments_lexer": "ipython3",
   "version": "3.10.2"
  },
  "vscode": {
   "interpreter": {
    "hash": "eeb10d17b3756d073ffb5f4d3818e34351524a6d440d7523aa8639b2cdd885e7"
   }
  }
 },
 "nbformat": 4,
 "nbformat_minor": 2
}
