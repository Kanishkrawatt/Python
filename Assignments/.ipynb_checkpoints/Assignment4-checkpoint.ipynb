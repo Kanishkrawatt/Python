{
 "cells": [
  {
   "cell_type": "markdown",
   "metadata": {},
   "source": [
    "Q1.Write a Python program to accept a string from user and find out the length of the given string"
   ]
  },
  {
   "cell_type": "code",
   "execution_count": 1,
   "metadata": {},
   "outputs": [
    {
     "name": "stdout",
     "output_type": "stream",
     "text": [
      "Enter the string : Kanishk\n",
      "Length of the input string 'Kanishk' is :  7\n"
     ]
    }
   ],
   "source": [
    "str=input(\"Enter the string : \")\n",
    "print(f\"Length of the input string '{str}' is : \",len(str))    "
   ]
  },
  {
   "cell_type": "markdown",
   "metadata": {},
   "source": [
    "Q2. Accept two words as input and print the two words after adding a space between them."
   ]
  },
  {
   "cell_type": "code",
   "execution_count": 2,
   "metadata": {},
   "outputs": [
    {
     "name": "stdout",
     "output_type": "stream",
     "text": [
      "Enter first string : Kanishk\n",
      "Enter second string : rawat\n",
      "The two words inputed are: Kanishk rawat\n"
     ]
    }
   ],
   "source": [
    "str1=input(\"Enter first string : \")\n",
    "str2=input(\"Enter second string : \")\n",
    "print(f\"The two words inputed are:\",str1+\" \"+str2)\n"
   ]
  },
  {
   "cell_type": "markdown",
   "metadata": {},
   "source": [
    "Q3. To check a substring is present in a given string or not."
   ]
  },
  {
   "cell_type": "code",
   "execution_count": 3,
   "metadata": {},
   "outputs": [
    {
     "name": "stdout",
     "output_type": "stream",
     "text": [
      "Enter input string: Kanishk\n",
      "Enter Substring s: anish\n",
      "The substring : (anish)  Is present in The Given String: (Kanishk)\n"
     ]
    }
   ],
   "source": [
    "GivenStr=input(\"Enter input string: \")\n",
    "SubStr=input(\"Enter Substring s: \")\n",
    "\n",
    "if SubStr in GivenStr:\n",
    "    print(f\"The substring : ({SubStr})  Is present in The Given String: ({GivenStr})\")\n",
    "else:\n",
    "    print(f\"The substring : ({SubStr})  Is Not  present in The Given String: ({GivenStr})\")\n"
   ]
  },
  {
   "cell_type": "markdown",
   "metadata": {},
   "source": [
    "Q4. Accept a string and display a string upto a particular character."
   ]
  },
  {
   "cell_type": "code",
   "execution_count": 4,
   "metadata": {},
   "outputs": [
    {
     "name": "stdout",
     "output_type": "stream",
     "text": [
      "Enter any string: kanishk\n",
      "Enter end character: i\n",
      "kani"
     ]
    }
   ],
   "source": [
    "str=input(\"Enter any string: \")\n",
    "ch=input(\"Enter end character: \")\n",
    "for i in range(str.find(ch)+1):\n",
    "    print(str[i],end=\"\")"
   ]
  },
  {
   "cell_type": "markdown",
   "metadata": {},
   "source": [
    "Q5. Accept a string and count the total number of vowels in the existing string."
   ]
  },
  {
   "cell_type": "code",
   "execution_count": 8,
   "metadata": {},
   "outputs": [
    {
     "name": "stdout",
     "output_type": "stream",
     "text": [
      "Enter any string: kanishk\n",
      "Number of vowels in the string 'kanishk' is :  2\n"
     ]
    }
   ],
   "source": [
    "str=input(\"Enter any string: \")\n",
    "vowel=\"aeiou\"\n",
    "count = 0\n",
    "vowel = vowel+ vowel.upper()\n",
    "for i in str:\n",
    "    if i in vowel:\n",
    "        count+=1\n",
    "print(f\"Number of vowels in the string '{str}' is : \",count)\n"
   ]
  },
  {
   "cell_type": "markdown",
   "metadata": {},
   "source": [
    "Q6. Accept a string as input, convert it to lower case, sort the string in alphabetical order, and print the\n",
    "sorted string to the console. You can assume that the string will only contain letters. for example:\n",
    "Bharatanatyam->aaaaabhmnrtty."
   ]
  },
  {
   "cell_type": "code",
   "execution_count": 7,
   "metadata": {},
   "outputs": [
    {
     "name": "stdout",
     "output_type": "stream",
     "text": [
      "Enter the Stringbharatanatyam\n",
      "aaaaabhmnrtty\n"
     ]
    }
   ],
   "source": [
    "str = input(\"Enter the String\")\n",
    "str.lower()\n",
    "print(\"\".join(sorted(str)))\n",
    "        "
   ]
  },
  {
   "cell_type": "markdown",
   "metadata": {},
   "source": [
    "Q7. Accept a phone number as input. A valid phone number should satisfy the following constraints.\n",
    "1. The number should start with one of these digits: 6, 7, 8, 9\n",
    "2. The number should be exactly 10 digits long.\n",
    "3. No digit should appear more than 7 times in the number.<br>\n",
    "Print the string valid if the phone number is valid. If not, print the string invalid"
   ]
  },
  {
   "cell_type": "code",
   "execution_count": 3,
   "metadata": {},
   "outputs": [
    {
     "name": "stdout",
     "output_type": "stream",
     "text": [
      "The number is : 9013366855\n"
     ]
    }
   ],
   "source": [
    "str = input(\"Enter\")\n",
    "number = \"\"\n",
    "if str[0]=='6' or str[0]=='7' or str[0]=='9':\n",
    "    if len(str)==10:\n",
    "        temp=0\n",
    "        for i in str:\n",
    "            if(str.count(i)>7):\n",
    "                temp =1\n",
    "        if(temp==0):\n",
    "            number = str\n",
    "            print(f\"The number is : {number}\")\n",
    "else:\n",
    "    print(\"Invalid Number\")\n",
    "    "
   ]
  },
  {
   "cell_type": "markdown",
   "metadata": {},
   "source": [
    "Q8. Write a Python program to check if a string is palindrome or not\n",
    "**ex: refer**"
   ]
  },
  {
   "cell_type": "code",
   "execution_count": 10,
   "metadata": {},
   "outputs": [
    {
     "name": "stdout",
     "output_type": "stream",
     "text": [
      "Enter the Word : Kanishk\n",
      "No , The String:(Kanishk) Is not Palindrome\n"
     ]
    }
   ],
   "source": [
    "str = input(\"Enter the Word : \")\n",
    "ReversedStr = str[::-1]\n",
    "if(str==ReversedStr):\n",
    "    print(f\"Yes , The String:({str}) Is Palindrome\")\n",
    "else:\n",
    "    print(f\"No , The String:({str}) Is not Palindrome\")"
   ]
  },
  {
   "cell_type": "markdown",
   "metadata": {},
   "source": [
    "Q9. Write a Python program to reverse words in a given String in Python"
   ]
  },
  {
   "cell_type": "code",
   "execution_count": 11,
   "metadata": {},
   "outputs": [
    {
     "name": "stdout",
     "output_type": "stream",
     "text": [
      "Enter the Stringkanishk is Pro\n",
      "orP si khsinak\n"
     ]
    }
   ],
   "source": [
    "str = input(\"Enter the String : \")\n",
    "print(str[::-1])"
   ]
  },
  {
   "cell_type": "markdown",
   "metadata": {},
   "source": [
    "Q10. Write a Python program to remove a particular character from string in Python"
   ]
  },
  {
   "cell_type": "code",
   "execution_count": 12,
   "metadata": {},
   "outputs": [
    {
     "name": "stdout",
     "output_type": "stream",
     "text": [
      "knishk\n"
     ]
    }
   ],
   "source": [
    "str = input(\"Enter the String\")\n",
    "char = input(\"Enter the Character\")\n",
    "print(str.replace(char,\"\"))"
   ]
  }
 ],
 "metadata": {
  "kernelspec": {
   "display_name": "Python 3 (ipykernel)",
   "language": "python",
   "name": "python3"
  },
  "language_info": {
   "codemirror_mode": {
    "name": "ipython",
    "version": 3
   },
   "file_extension": ".py",
   "mimetype": "text/x-python",
   "name": "python",
   "nbconvert_exporter": "python",
   "pygments_lexer": "ipython3",
   "version": "3.10.2"
  },
  "vscode": {
   "interpreter": {
    "hash": "eeb10d17b3756d073ffb5f4d3818e34351524a6d440d7523aa8639b2cdd885e7"
   }
  }
 },
 "nbformat": 4,
 "nbformat_minor": 2
}
