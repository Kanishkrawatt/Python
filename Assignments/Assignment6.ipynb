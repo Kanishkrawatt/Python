{
 "cells": [
  {
   "cell_type": "markdown",
   "metadata": {},
   "source": [
    "1. Python program to interchange first and last elements in a list<br>\n",
    "2. Accept the positions of the elements and Python program to swap two elements in a list<br>\n",
    "3. Python program to check if an element exists in the list<br>\n",
    "4. Python program to find the sum of elements in the list<br>\n",
    "5. Python program  to find the smallest and largest number in a list<br>\n",
    "6. Python program to find the second largest number in a list<br>\n",
    "7. Python program to find N largest elements from a list<br>\n",
    "8. Python program to print even numbers in a list<br>\n",
    "9. Python program to print odd numbers in a list<br>\n",
    "10. Make a list of the first 10 letters of the alphabet, then use the slicing to do the following operations: a.Print the first 3 letters of the list b.Print any 3 letters from the middle<br>\n",
    "11. Python program to find the Sum of all even elements in the existing tuple<br>\n",
    "12. Python program to accept two tuples from the user and display all combinations of all elementsin the form of tuple<br>\n",
    "13. Python program to find a particular element that exists or not; if exists then delete an element from the given tuple.<br>"
   ]
  },
  {
   "cell_type": "code",
   "execution_count": 1,
   "metadata": {},
   "outputs": [
    {
     "name": "stdout",
     "output_type": "stream",
     "text": [
      "[7, 2, 3, 4, 5, 6, 1]\n"
     ]
    }
   ],
   "source": [
    "# 1.Python program to interchange first and last elements in a list\n",
    "l = [1,2,3,4,5,6,7]\n",
    "l[0],l[-1] = l[-1],l[0]\n",
    "print(l)"
   ]
  },
  {
   "cell_type": "code",
   "execution_count": 3,
   "metadata": {},
   "outputs": [
    {
     "name": "stdout",
     "output_type": "stream",
     "text": [
      "[4, 2, 3, 1, 5, 6, 7]\n"
     ]
    }
   ],
   "source": [
    "# 2.Accept the positions of the elements and Python program to swap two elements in a list\n",
    "l = [1,2,3,4,5,6,7]\n",
    "fPos =int(input(\"Enter the first Position : (1-6)\"))\n",
    "lPos = int(input(\"Enter the last Position : (1-6)\"))\n",
    "l[fPos-1],l[lPos-1] = l[lPos-1],l[fPos-1]\n",
    "print(l)"
   ]
  },
  {
   "cell_type": "code",
   "execution_count": 1,
   "metadata": {},
   "outputs": [
    {
     "name": "stdout",
     "output_type": "stream",
     "text": [
      "Enter the Number5\n",
      "Yes\n"
     ]
    }
   ],
   "source": [
    "# 3.Python program to check if an element exists in the list\n",
    "l = [1,2,3,4,5,6,7]\n",
    "num = int(input(\"Enter the Number\"))\n",
    "for i in l:\n",
    "    if i==num:\n",
    "        print(\"Yes\")\n",
    "        break\n",
    "else:\n",
    "    print(\"no\")"
   ]
  },
  {
   "cell_type": "code",
   "execution_count": 1,
   "metadata": {},
   "outputs": [
    {
     "name": "stdout",
     "output_type": "stream",
     "text": [
      "The sum of the List :  28\n"
     ]
    }
   ],
   "source": [
    "# 4. Python program to find the sum of elements in the list\n",
    "l = [1,2,3,4,5,6,7]\n",
    "print(\"The sum of the List : \",sum(l))"
   ]
  },
  {
   "cell_type": "code",
   "execution_count": 2,
   "metadata": {},
   "outputs": [
    {
     "name": "stdout",
     "output_type": "stream",
     "text": [
      "The Smallest Number in the List :  1\n",
      "The Largest Number in the List :  7\n"
     ]
    }
   ],
   "source": [
    "# 5. Python program  to find the smallest and largest number in a list\n",
    "l = [1,2,3,4,5,6,7]\n",
    "print(\"The Smallest Number in the List : \",min(l))\n",
    "print(\"The Largest Number in the List : \",max(l))"
   ]
  },
  {
   "cell_type": "code",
   "execution_count": 4,
   "metadata": {},
   "outputs": [
    {
     "name": "stdout",
     "output_type": "stream",
     "text": [
      "The Second Largest Number in the List :  7\n"
     ]
    }
   ],
   "source": [
    "# 6. Python program to find the second largest number in a list\n",
    "l = [8,2,3,4,5,6,7]\n",
    "l.sort()\n",
    "print(\"The Second Largest Number in the List : \",l[-2])"
   ]
  },
  {
   "cell_type": "code",
   "execution_count": 5,
   "metadata": {},
   "outputs": [
    {
     "name": "stdout",
     "output_type": "stream",
     "text": [
      "The Largest Elements in the List :  [5, 6, 7, 8]\n"
     ]
    }
   ],
   "source": [
    "# 7. Python program to find N largest elements from a list\n",
    "l = [8,2,3,4,5,6,7]\n",
    "l.sort()\n",
    "n = int(input(\"Enter the Number of Largest Elements : \"))\n",
    "print(\"The Largest Elements in the List : \",l[-n:])\n"
   ]
  },
  {
   "cell_type": "code",
   "execution_count": 2,
   "metadata": {},
   "outputs": [
    {
     "name": "stdout",
     "output_type": "stream",
     "text": [
      "[8, 2, 4, 6]\n"
     ]
    }
   ],
   "source": [
    "# 8. Python program to print even numbers in a list\n",
    "l = [8,2,3,4,5,6,7]\n",
    "print([i for i in l if i%2==0])"
   ]
  },
  {
   "cell_type": "code",
   "execution_count": 3,
   "metadata": {},
   "outputs": [
    {
     "name": "stdout",
     "output_type": "stream",
     "text": [
      "[3, 5, 7]\n"
     ]
    }
   ],
   "source": [
    "# 9. Python program to print odd numbers in a list\n",
    "l = [8,2,3,4,5,6,7]\n",
    "print([i for i in l if i%2!=0])"
   ]
  },
  {
   "cell_type": "code",
   "execution_count": 4,
   "metadata": {},
   "outputs": [
    {
     "name": "stdout",
     "output_type": "stream",
     "text": [
      "The First 3 Letters of the List :  ['a', 'b', 'c']\n",
      "The Middle 3 Letters of the List :  ['d', 'e', 'f']\n"
     ]
    }
   ],
   "source": [
    "# 10. Make a list of the first 10 letters of the alphabet, then use the slicing to do the following operations: \n",
    "# a.Print the first 3 letters of the list b.Print any 3 letters from the middle\n",
    "\n",
    "l = ['a','b','c','d','e','f','g','h','i','j']\n",
    "print(\"The First 3 Letters of the List : \",l[:3])\n",
    "print(\"The Middle 3 Letters of the List : \",l[3:6])\n"
   ]
  },
  {
   "cell_type": "code",
   "execution_count": 5,
   "metadata": {},
   "outputs": [
    {
     "name": "stdout",
     "output_type": "stream",
     "text": [
      "The Sum of all even elements in the existing tuple :  30\n"
     ]
    }
   ],
   "source": [
    "# 11. Python program to find the Sum of all even elements in the existing tuple\n",
    "t = (1,2,3,4,5,6,7,8,9,10)\n",
    "print(\"The Sum of all even elements in the existing tuple : \",sum([i for i in t if i%2==0]))"
   ]
  },
  {
   "cell_type": "code",
   "execution_count": 7,
   "metadata": {},
   "outputs": [
    {
     "name": "stdout",
     "output_type": "stream",
     "text": [
      "Enter the First Tuple : 123\n",
      "Enter the Second Tuple : 123\n",
      "('1', '1') ('1', '2') ('1', '3') ('2', '1') ('2', '2') ('2', '3') ('3', '1') ('3', '2') ('3', '3') "
     ]
    }
   ],
   "source": [
    "t1 = tuple(input(\"Enter the First Tuple : \"))\n",
    "t2 = tuple(input(\"Enter the Second Tuple : \"))\n",
    "for i in t1:\n",
    "    for j in t2:\n",
    "        print((i,j),end=\" \")\n"
   ]
  },
  {
   "cell_type": "code",
   "execution_count": 18,
   "metadata": {},
   "outputs": [
    {
     "name": "stdout",
     "output_type": "stream",
     "text": [
      "Enter element you want to delete from tuple:1\n",
      "(2, 3, 4)\n"
     ]
    }
   ],
   "source": [
    "t1 = (1,2,3,4)\n",
    "x=int(input(\"Enter element you want to delete from tuple:\"))\n",
    "l1 = list(t1)\n",
    "if x in l1:\n",
    "    l1.remove(x)\n",
    "    print(tuple(l1))\n",
    "else:\n",
    "    print(\"Element not present in tuple. \")\n"
   ]
  }
 ],
 "metadata": {
  "kernelspec": {
   "display_name": "Python 3 (ipykernel)",
   "language": "python",
   "name": "python3"
  },
  "language_info": {
   "codemirror_mode": {
    "name": "ipython",
    "version": 3
   },
   "file_extension": ".py",
   "mimetype": "text/x-python",
   "name": "python",
   "nbconvert_exporter": "python",
   "pygments_lexer": "ipython3",
   "version": "3.10.2"
  },
  "vscode": {
   "interpreter": {
    "hash": "eeb10d17b3756d073ffb5f4d3818e34351524a6d440d7523aa8639b2cdd885e7"
   }
  }
 },
 "nbformat": 4,
 "nbformat_minor": 2
}
