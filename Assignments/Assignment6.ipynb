{
 "cells": [
  {
   "cell_type": "markdown",
   "metadata": {},
   "source": [
    "1.Python program to interchange first and last elements in a list\n",
    "2.Accept the positions of the elements and Python program to swap two elements in a list\n",
    "3.Python program to check if an element exists in the list\n",
    "4.Python program to find the sum of elements in the list\n",
    "5.Python program  to find the smallest and largest number in a list\n",
    "6.Python program to find the second largest number in a list\n",
    "7.Python program to find N largest elements from a list\n",
    "8.Python program to print even numbers in a list\n",
    "9.Python program to print odd numbers in a list\n",
    "10.Make a list of the first 10 letters of the alphabet, then use the slicing to do the following operations: a.Print the first 3 letters of the list b.Print any 3 letters from the middle\n",
    "11.Python program to find the Sum of all even elements in the existing tuple\n",
    "12.Python program to accept two tuples from the user and display all combinations of all elementsin the form of tuple\n",
    "13.Python program to find a particular element that exists or not; if exists then delete an element from the given tuple."
   ]
  },
  {
   "cell_type": "code",
   "execution_count": 1,
   "metadata": {},
   "outputs": [
    {
     "name": "stdout",
     "output_type": "stream",
     "text": [
      "[7, 2, 3, 4, 5, 6, 1]\n"
     ]
    }
   ],
   "source": [
    "# 1.Python program to interchange first and last elements in a list\n",
    "l = [1,2,3,4,5,6,7]\n",
    "l[0],l[-1] = l[-1],l[0]\n",
    "print(l)"
   ]
  },
  {
   "cell_type": "code",
   "execution_count": 3,
   "metadata": {},
   "outputs": [
    {
     "name": "stdout",
     "output_type": "stream",
     "text": [
      "[4, 2, 3, 1, 5, 6, 7]\n"
     ]
    }
   ],
   "source": [
    "# 2.Accept the positions of the elements and Python program to swap two elements in a list\n",
    "l = [1,2,3,4,5,6,7]\n",
    "fPos =int(input(\"Enter the first Position : (1-6)\"))\n",
    "lPos = int(input(\"Enter the last Position : (1-6)\"))\n",
    "l[fPos-1],l[lPos-1] = l[lPos-1],l[fPos-1]\n",
    "print(l)"
   ]
  },
  {
   "cell_type": "code",
   "execution_count": 5,
   "metadata": {},
   "outputs": [
    {
     "name": "stdout",
     "output_type": "stream",
     "text": [
      "Yes\n"
     ]
    }
   ],
   "source": [
    "# 3.Python program to check if an element exists in the list\n",
    "l = [1,2,3,4,5,6,7]\n",
    "num = int(input(\"Enter the Number\"))\n",
    "for i in l:\n",
    "    if i==num:\n",
    "        print(\"Yes\")\n",
    "        break\n",
    "else:\n",
    "    print(\"no\")"
   ]
  },
  {
   "cell_type": "code",
   "execution_count": null,
   "metadata": {},
   "outputs": [],
   "source": []
  }
 ],
 "metadata": {
  "kernelspec": {
   "display_name": "Python 3.10.2 64-bit",
   "language": "python",
   "name": "python3"
  },
  "language_info": {
   "codemirror_mode": {
    "name": "ipython",
    "version": 3
   },
   "file_extension": ".py",
   "mimetype": "text/x-python",
   "name": "python",
   "nbconvert_exporter": "python",
   "pygments_lexer": "ipython3",
   "version": "3.10.2"
  },
  "orig_nbformat": 4,
  "vscode": {
   "interpreter": {
    "hash": "eeb10d17b3756d073ffb5f4d3818e34351524a6d440d7523aa8639b2cdd885e7"
   }
  }
 },
 "nbformat": 4,
 "nbformat_minor": 2
}
