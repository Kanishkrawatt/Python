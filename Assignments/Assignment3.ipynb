{
 "cells": [
  {
   "cell_type": "markdown",
   "metadata": {},
   "source": [
    "1.Write a program using while loop that asks the user for a number, and prints a countdown from that number to zero."
   ]
  },
  {
   "cell_type": "code",
   "execution_count": 1,
   "metadata": {},
   "outputs": [
    {
     "name": "stdout",
     "output_type": "stream",
     "text": [
      "Enter the Number : 10\n",
      "10 9 8 7 6 5 4 3 2 1 0 "
     ]
    }
   ],
   "source": [
    "num = int(input(\"Enter the Number : \"))\n",
    "while(num+1):\n",
    "    print(num,end=\" \")\n",
    "    num -= 1"
   ]
  },
  {
   "cell_type": "markdown",
   "metadata": {},
   "source": [
    "2. Accept a positive integer n as input and print all the factors of n, one number on each line."
   ]
  },
  {
   "cell_type": "code",
   "execution_count": 2,
   "metadata": {},
   "outputs": [
    {
     "name": "stdout",
     "output_type": "stream",
     "text": [
      "Enter A Positive Integer10\n",
      "1 2 5 10\n"
     ]
    }
   ],
   "source": [
    "num = int(input(\"Enter A Positive Integer\"))\n",
    "for i in range(1,int(num/2)+1):\n",
    "    if(num%i==0):\n",
    "        print(i,end=\" \")\n",
    "print(num)"
   ]
  },
  {
   "cell_type": "markdown",
   "metadata": {},
   "source": [
    "3. Write a Python program to read an integer > 1000 and reverse the number."
   ]
  },
  {
   "cell_type": "code",
   "execution_count": 3,
   "metadata": {},
   "outputs": [
    {
     "name": "stdout",
     "output_type": "stream",
     "text": [
      "Enter the Integer : 12345\n",
      "54321\n"
     ]
    }
   ],
   "source": [
    "num = input(\"Enter the Integer : \")\n",
    "reverseNum = num[::-1]\n",
    "print(int(reverseNum))"
   ]
  },
  {
   "cell_type": "markdown",
   "metadata": {},
   "source": [
    "4. Accept a positive integer as input and print the sum of the digits in the number."
   ]
  },
  {
   "cell_type": "code",
   "execution_count": 6,
   "metadata": {},
   "outputs": [
    {
     "name": "stdout",
     "output_type": "stream",
     "text": [
      "Enter the Number25\n",
      "7\n"
     ]
    }
   ],
   "source": [
    "sum =0\n",
    "for i in input(\"Enter the Number\"):\n",
    "    sum += int(i)\n",
    "print(sum)"
   ]
  },
  {
   "cell_type": "markdown",
   "metadata": {},
   "source": [
    "5.Write a program to print out all Armstrong numbers between 100 and 500.  If sum of cubes of each digit of the number is equal to the number itself, then the number is called an Armstrong number. For example, 153 = ( 1 * 1 * 1 ) + ( 5 * 5 * 5 ) + ( 3 * 3 * 3 )."
   ]
  },
  {
   "cell_type": "code",
   "execution_count": 7,
   "metadata": {},
   "outputs": [
    {
     "name": "stdout",
     "output_type": "stream",
     "text": [
      "153 370 371 407 "
     ]
    }
   ],
   "source": [
    "for i in range(100,501):\n",
    "    temp = 0\n",
    "    for j in str(i):\n",
    "        temp += int(j)**3\n",
    "    if(temp==i):\n",
    "        print(i,end=\" \")"
   ]
  },
  {
   "cell_type": "markdown",
   "metadata": {},
   "source": [
    "6. Write a program to print the sum of all the primes between two ranges."
   ]
  },
  {
   "cell_type": "code",
   "execution_count": 9,
   "metadata": {},
   "outputs": [
    {
     "name": "stdout",
     "output_type": "stream",
     "text": [
      "Enter the Starting range :1\n",
      "Enter the Ending range : 10\n",
      "1 2 3 5 7 "
     ]
    }
   ],
   "source": [
    "StartingRange = int(input(\"Enter the Starting range :\"))\n",
    "EndingRange = int(input(\"Enter the Ending range : \"))\n",
    "for i in range(StartingRange,EndingRange+1):\n",
    "    for j in range(2,int(i/2)+1):\n",
    "        if(i%j==0):\n",
    "            break\n",
    "    else:\n",
    "        print(i,end=\" \")"
   ]
  },
  {
   "cell_type": "markdown",
   "metadata": {},
   "source": [
    "7. Write a Python program to print the following patterns"
   ]
  },
  {
   "cell_type": "code",
   "execution_count": 174,
   "metadata": {},
   "outputs": [
    {
     "name": "stdout",
     "output_type": "stream",
     "text": [
      "0\n",
      "01\n",
      "012\n",
      "0123\n",
      "01234\n"
     ]
    }
   ],
   "source": [
    "for i in range(5):\n",
    "    for j in range(i+1):\n",
    "        print(j,end=\"\")\n",
    "    print()"
   ]
  },
  {
   "cell_type": "code",
   "execution_count": 175,
   "metadata": {},
   "outputs": [
    {
     "name": "stdout",
     "output_type": "stream",
     "text": [
      "01234\n",
      "0123\n",
      "012\n",
      "01\n",
      "0\n"
     ]
    }
   ],
   "source": [
    "for i in range(5,0,-1):\n",
    "    for j in range(i):\n",
    "        print(j,end=\"\")\n",
    "    print()"
   ]
  },
  {
   "cell_type": "code",
   "execution_count": 176,
   "metadata": {},
   "outputs": [
    {
     "name": "stdout",
     "output_type": "stream",
     "text": [
      "    0\n",
      "   01\n",
      "  012\n",
      " 0123\n",
      "01234\n"
     ]
    }
   ],
   "source": [
    "for i in range(5,0,-1):\n",
    "    for j in range(i-1):\n",
    "        print(\" \",end=\"\")\n",
    "    for j in range(6-i):\n",
    "        print(j,end=\"\")\n",
    "    print()"
   ]
  },
  {
   "cell_type": "code",
   "execution_count": 177,
   "metadata": {},
   "outputs": [
    {
     "name": "stdout",
     "output_type": "stream",
     "text": [
      " 01234\n",
      "  0123\n",
      "   012\n",
      "    01\n",
      "     0\n"
     ]
    }
   ],
   "source": [
    "for i in range(5,0,-1):\n",
    "    for j in range(6-i):\n",
    "        print(\" \",end=\"\")\n",
    "    for j in range(i):\n",
    "        print(j,end=\"\")\n",
    "    \n",
    "    print()"
   ]
  },
  {
   "cell_type": "code",
   "execution_count": 178,
   "metadata": {},
   "outputs": [
    {
     "name": "stdout",
     "output_type": "stream",
     "text": [
      "1 2 3 4 5 \n",
      "2 2 3 4 5 \n",
      "3 3 3 4 5 \n",
      "4 4 4 4 5 \n",
      "5 5 5 5 5 \n"
     ]
    }
   ],
   "source": [
    "for i in range(1,6):\n",
    "    j = i\n",
    "    while(j):\n",
    "        print(i,end=\" \")\n",
    "        j-=1\n",
    "    j = i+1\n",
    "    while(j<6):\n",
    "        print(j,end=\" \")\n",
    "        j+=1 \n",
    "    print()\n"
   ]
  },
  {
   "cell_type": "code",
   "execution_count": 179,
   "metadata": {},
   "outputs": [
    {
     "name": "stdout",
     "output_type": "stream",
     "text": [
      "1 \n",
      "2 4 \n",
      "3 6 9 \n",
      "4 8 12 16 \n",
      "5 10 15 20 25 \n"
     ]
    }
   ],
   "source": [
    "for i in range(1,6):\n",
    "    for j in range(i):\n",
    "        print(i+i*j,end=\" \")\n",
    "    print()"
   ]
  },
  {
   "cell_type": "code",
   "execution_count": 180,
   "metadata": {},
   "outputs": [
    {
     "name": "stdout",
     "output_type": "stream",
     "text": [
      "    *\n",
      "   ***\n",
      "  *****\n",
      " *******\n",
      "  *****\n",
      "   ***\n",
      "    *\n"
     ]
    }
   ],
   "source": [
    "for i in range(7):\n",
    "    temp = abs(7-abs(3-i)*2)\n",
    "    print(\" \"*int((7-temp)/2),end=\" \")\n",
    "    print(\"*\"*temp)"
   ]
  },
  {
   "cell_type": "code",
   "execution_count": null,
   "metadata": {},
   "outputs": [],
   "source": []
  }
 ],
 "metadata": {
  "kernelspec": {
   "display_name": "Python 3 (ipykernel)",
   "language": "python",
   "name": "python3"
  },
  "language_info": {
   "codemirror_mode": {
    "name": "ipython",
    "version": 3
   },
   "file_extension": ".py",
   "mimetype": "text/x-python",
   "name": "python",
   "nbconvert_exporter": "python",
   "pygments_lexer": "ipython3",
   "version": "3.10.2"
  },
  "vscode": {
   "interpreter": {
    "hash": "eeb10d17b3756d073ffb5f4d3818e34351524a6d440d7523aa8639b2cdd885e7"
   }
  }
 },
 "nbformat": 4,
 "nbformat_minor": 2
}
