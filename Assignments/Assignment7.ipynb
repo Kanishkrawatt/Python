{
 "cells": [
  {
   "cell_type": "markdown",
   "metadata": {},
   "source": [
    "Lab Assignment 7: Dictionary\n",
    "1.Write a Python program to get the maximum and minimum value in a dictionary\n",
    "2.Write a Python program to sum all the items in a dictionary\n",
    "3.Write a Python program to merge two Python dictionaries.\n",
    "4.Write a Python program to generate and print a dictionary that contains all even numbers (between 1 and n) in the form (x, x^3). \n",
    "5.Write a Python program to remove a key from a dictionary. \n",
    "6.Write a Python program to remove duplicates from Dictionary. \n",
    "7.Write a Python program to combine two dictionaries adding values for common keys (for example : d1={1: 10, 2: 20, 3: 30,5:10}d2={4: 40, 5: 50, 6: 60,2:10}output : {1:10, 2:30, 3:30, 4:40, 5:60, 6:60}\n",
    "8.write a python program to find out the key based on the value\n",
    "9.write a python program for dictionary of names of students and a list of their marks in 4 subjects. create another dictionary from this dictionary that has name of the students and their total marks. find out the topper and his/her marks.\n",
    "10.write a python program to reverse the dictionary values. \n",
    "11.Write a python program to accept a string from user, to find the frequency of each character with the help of dictionary.\n",
    "12.Write a python program to accept a string from user, to find the frequency of each word with the help of dictionary."
   ]
  },
  {
   "cell_type": "code",
   "execution_count": 1,
   "metadata": {},
   "outputs": [
    {
     "name": "stdout",
     "output_type": "stream",
     "text": [
      "Maximum value in the dictionary is :  60\n"
     ]
    }
   ],
   "source": [
    "#1 Write a Python program to get the maximum and minimum value in a dictionary\n",
    "dict1= {1:10,2:20,3:30,4:40,5:50,6:60}\n",
    "print(\"Maximum value in the dictionary is : \",max(dict.values(dict1)))\n"
   ]
  },
  {
   "cell_type": "code",
   "execution_count": 3,
   "metadata": {},
   "outputs": [
    {
     "name": "stdout",
     "output_type": "stream",
     "text": [
      "The sum of all the Value :  210\n"
     ]
    }
   ],
   "source": [
    "# 2.Write a Python program to sum all the items in a dictionary\n",
    "print(\"The sum of all the Value : \",sum(dict.values(dict1)))\n"
   ]
  },
  {
   "cell_type": "code",
   "execution_count": 4,
   "metadata": {},
   "outputs": [
    {
     "name": "stdout",
     "output_type": "stream",
     "text": [
      "{1: 10, 2: 20, 3: 30, 4: 40, 5: 50}\n"
     ]
    }
   ],
   "source": [
    "# 3.Write a Python program to merge two Python dictionaries.\n",
    "dict1={1:10,2:20,3:30}\n",
    "dict2={4:40,5:50}\n",
    "dict1.update(dict2)\n",
    "print(dict1)"
   ]
  },
  {
   "cell_type": "code",
   "execution_count": 8,
   "metadata": {},
   "outputs": [
    {
     "name": "stdout",
     "output_type": "stream",
     "text": [
      "{1: 1, 2: 8, 3: 27, 4: 64, 5: 125, 6: 216, 7: 343, 8: 512, 9: 729}\n"
     ]
    }
   ],
   "source": [
    "# 4.Write a Python program to generate and print a dictionary that contains all\n",
    "#  even numbers (between 1 and n) in the form (x, x^3). \n",
    "n = int(input(\"Enter The Number\"))\n",
    "dict1= {i:i**3 for i in range(1,n+1)}\n",
    "print(dict)"
   ]
  },
  {
   "cell_type": "code",
   "execution_count": 6,
   "metadata": {},
   "outputs": [
    {
     "name": "stdout",
     "output_type": "stream",
     "text": [
      "Enter the Key : 2\n",
      "{1: 10, 3: 30, 4: 40, 5: 50}\n"
     ]
    }
   ],
   "source": [
    "# 5.Write a Python program to remove a key from a dictionary. \n",
    "key = int(input(\"Enter the Key : \"))\n",
    "dict1.pop(key,\"Key Not found\")\n",
    "print(dict1)"
   ]
  },
  {
   "cell_type": "code",
   "execution_count": 48,
   "metadata": {
    "scrolled": true
   },
   "outputs": [
    {
     "name": "stdout",
     "output_type": "stream",
     "text": [
      "{1: 10, 2: 20, 3: 30}\n"
     ]
    }
   ],
   "source": [
    "# 6.Write a Python program to remove duplicates from Dictionary. \n",
    "checkdict1={}\n",
    "dict1= {1:10,2:20,3:10,4:20}\n",
    "for i,j in dict.items():\n",
    "    if j not in checkdict1.values():\n",
    "        checkdict1[i]=j\n",
    "print(checkdict1) "
   ]
  },
  {
   "cell_type": "code",
   "execution_count": 7,
   "metadata": {},
   "outputs": [
    {
     "name": "stdout",
     "output_type": "stream",
     "text": [
      "{1: 10, 2: 30, 3: 30, 5: 60, 4: 40, 6: 60}\n"
     ]
    }
   ],
   "source": [
    "# 7.Write a Python program to combine two dictionaries adding values for common keys \n",
    "# for example : d1={1: 10, 2: 20, 3: 30,5:10} d2={4: 40, 5: 50, 6: 60,2:10}\n",
    "# output : {1:10, 2:30, 3:30, 4:40, 5:60, 6:60}\n",
    "d1={1: 10, 2: 20, 3: 30,5:10} \n",
    "d2={4: 40, 5: 50, 6: 60,2:10}\n",
    "d3 = {}\n",
    "for i,j in d1.items():\n",
    "    if i not in d3.keys():\n",
    "        d3[i] = j\n",
    "        continue\n",
    "    else:\n",
    "        d3[i] = d3[i]+j\n",
    "for i,j in d2.items():\n",
    "    if i not in d3.keys():\n",
    "        d3[i] = j\n",
    "        continue\n",
    "    else:\n",
    "        d3[i] = d3[i]+j\n",
    "print(d3)"
   ]
  },
  {
   "cell_type": "code",
   "execution_count": 18,
   "metadata": {},
   "outputs": [
    {
     "name": "stdout",
     "output_type": "stream",
     "text": [
      "1\n"
     ]
    }
   ],
   "source": [
    "# 8.write a python program to find out the key based on the value\n",
    "d1 = {1: 10, 2: 20, 3: 30}\n",
    "value = int(input(\"Enter the Value\"))\n",
    "print([i for i,j in d1.items() if j==value][0])"
   ]
  },
  {
   "cell_type": "code",
   "execution_count": 8,
   "metadata": {},
   "outputs": [
    {
     "name": "stdout",
     "output_type": "stream",
     "text": [
      "C 340\n"
     ]
    }
   ],
   "source": [
    "# 9.write a python program for dictionary of names of students and a list of their marks in 4 subjects. \n",
    "# create another dictionary from this dictionary that has name of the students and their total marks.\n",
    "#  find out the topper and his/her marks.\n",
    "d1 = {'A': [10,20,30,40], 'B': [40,50,60,70], 'C': [70,80,90,100]}\n",
    "d2 = {x:sum(y) for x,y in d1.items()}\n",
    "max = max(d2.values())\n",
    "for i,j in d2.items():\n",
    "    if(j==max):\n",
    "        print(i,j)"
   ]
  },
  {
   "cell_type": "code",
   "execution_count": 9,
   "metadata": {},
   "outputs": [
    {
     "name": "stdout",
     "output_type": "stream",
     "text": [
      "{10: 1, 20: 2, 30: 3}\n"
     ]
    }
   ],
   "source": [
    "# 10.write a python program to reverse the dictionary values. \n",
    "d1={1: 10, 2: 20, 3: 30}\n",
    "d2 ={j:i for i,j in d1.items()}\n",
    "print(d2)"
   ]
  },
  {
   "cell_type": "code",
   "execution_count": 57,
   "metadata": {
    "scrolled": true
   },
   "outputs": [
    {
     "name": "stdout",
     "output_type": "stream",
     "text": [
      "{'k': 2, 'a': 1, 'n': 1, 'i': 1, 's': 1, 'h': 1}\n"
     ]
    }
   ],
   "source": [
    "# 11.Write a python program to accept a string from user, \n",
    "# to find the frequency of each character with the help of dictionary.\n",
    "str = input(\"Enter the string \")\n",
    "strdict = {}\n",
    "for i in str:\n",
    "    if i not in strdict.keys():\n",
    "        strdict[i] = 1\n",
    "        continue\n",
    "    strdict[i] = strdict[i]+1\n",
    "print(strdict)"
   ]
  },
  {
   "cell_type": "code",
   "execution_count": 58,
   "metadata": {},
   "outputs": [
    {
     "name": "stdout",
     "output_type": "stream",
     "text": [
      "{'kanishk': 1, 'is': 2, 'my': 1, 'name': 1}\n"
     ]
    }
   ],
   "source": [
    "# 12.Write a python program to accept a string from user, \n",
    "# to find the frequency of each word with the help of dictionary.\n",
    "str = input(\"Enter the string \")\n",
    "strdict = {}\n",
    "for i in str.split():\n",
    "    if i not in strdict.keys():\n",
    "        strdict[i] = 1\n",
    "        continue\n",
    "    strdict[i] = strdict[i]+1\n",
    "print(strdict)"
   ]
  },
  {
   "cell_type": "code",
   "execution_count": null,
   "metadata": {},
   "outputs": [],
   "source": []
  }
 ],
 "metadata": {
  "kernelspec": {
   "display_name": "Python 3 (ipykernel)",
   "language": "python",
   "name": "python3"
  },
  "language_info": {
   "codemirror_mode": {
    "name": "ipython",
    "version": 3
   },
   "file_extension": ".py",
   "mimetype": "text/x-python",
   "name": "python",
   "nbconvert_exporter": "python",
   "pygments_lexer": "ipython3",
   "version": "3.10.2 (tags/v3.10.2:a58ebcc, Jan 17 2022, 14:12:15) [MSC v.1929 64 bit (AMD64)]"
  },
  "vscode": {
   "interpreter": {
    "hash": "eeb10d17b3756d073ffb5f4d3818e34351524a6d440d7523aa8639b2cdd885e7"
   }
  }
 },
 "nbformat": 4,
 "nbformat_minor": 2
}
