{
 "cells": [
  {
   "cell_type": "markdown",
   "metadata": {},
   "source": [
    "### Escape Sequence"
   ]
  },
  {
   "cell_type": "markdown",
   "metadata": {},
   "source": [
    "* \\n &nbsp;:&nbsp; for Newline \n",
    "* \\t &nbsp;:&nbsp; for Tab   \n",
    "* \\\\ &nbsp;:&nbsp; for Backslah \n",
    "* \\\" &nbsp;:&nbsp; for Double quote \n",
    "* \\' &nbsp;:&nbsp; for Single quote\n",
    "* \\r &nbsp;:&nbsp; for Carroage return\n",
    "* \\b &nbsp;:&nbsp; for Backspace"
   ]
  },
  {
   "cell_type": "code",
   "execution_count": 23,
   "metadata": {},
   "outputs": [
    {
     "name": "stdout",
     "output_type": "stream",
     "text": [
      "Newline \n",
      "char\n"
     ]
    }
   ],
   "source": [
    "# \\n For Newline \n",
    "# Move the cursor to the Next line\n",
    "print(\"Newline \\nchar\")"
   ]
  },
  {
   "cell_type": "code",
   "execution_count": 24,
   "metadata": {},
   "outputs": [
    {
     "name": "stdout",
     "output_type": "stream",
     "text": [
      "4\tSpace\n"
     ]
    }
   ],
   "source": [
    "# \\t For Tabspace\n",
    "# Add 4 space Char\n",
    "print(\"4\\tSpace\")"
   ]
  },
  {
   "cell_type": "code",
   "execution_count": 25,
   "metadata": {},
   "outputs": [
    {
     "name": "stdout",
     "output_type": "stream",
     "text": [
      "Jello\n"
     ]
    }
   ],
   "source": [
    "# \\r for Carriage return\n",
    "# Move the Cursor to the First char\n",
    "print(\"Hello\\rJ\")"
   ]
  },
  {
   "cell_type": "code",
   "execution_count": 26,
   "metadata": {},
   "outputs": [
    {
     "name": "stdout",
     "output_type": "stream",
     "text": [
      "Hell\n"
     ]
    }
   ],
   "source": [
    "# \\b For Backspace\n",
    "# Remove One char\n",
    "print(\"Hello\\b\")"
   ]
  },
  {
   "cell_type": "code",
   "execution_count": 22,
   "metadata": {},
   "outputs": [
    {
     "name": "stdout",
     "output_type": "stream",
     "text": [
      "Ascii (A)\t:\t 65\n",
      "Ascii (Z)\t:\t 90\n",
      "Ascii (0)\t:\t 48\n",
      "Ascii (9)\t:\t 57\n",
      "Ascii (\\n)\t:\t 10\n",
      "Ascii (\\t)\t:\t 9\n",
      "Ascii (\\r)\t:\t 13\n",
      "Ascii (\\b)\t:\t 8\n"
     ]
    }
   ],
   "source": [
    "print(\"Ascii (A)\\t:\\t\",ord(\"A\"))\n",
    "print(\"Ascii (Z)\\t:\\t\",ord(\"Z\"))\n",
    "print(\"Ascii (0)\\t:\\t\",ord(\"0\"))\n",
    "print(\"Ascii (9)\\t:\\t\",ord(\"9\"))\n",
    "print(\"Ascii (\\\\n)\\t:\\t\",ord(\"\\n\"))\n",
    "print(\"Ascii (\\\\t)\\t:\\t\",ord(\"\\t\"))\n",
    "print(\"Ascii (\\\\r)\\t:\\t\",ord(\"\\r\"))\n",
    "print(\"Ascii (\\\\b)\\t:\\t\",ord(\"\\b\"))\n"
   ]
  },
  {
   "cell_type": "markdown",
   "metadata": {},
   "source": [
    "Adding Two Number Without Using +"
   ]
  },
  {
   "cell_type": "code",
   "execution_count": 73,
   "metadata": {},
   "outputs": [
    {
     "name": "stdout",
     "output_type": "stream",
     "text": [
      "5\n"
     ]
    }
   ],
   "source": [
    "a =2\n",
    "b =3\n",
    "print(a-(-b))"
   ]
  },
  {
   "cell_type": "markdown",
   "metadata": {},
   "source": [
    "Universal Formula"
   ]
  },
  {
   "cell_type": "code",
   "execution_count": 78,
   "metadata": {},
   "outputs": [
    {
     "data": {
      "text/plain": [
       "6"
      ]
     },
     "execution_count": 78,
     "metadata": {},
     "output_type": "execute_result"
    }
   ],
   "source": [
    "from operator import concat\n",
    "a =3 \n",
    "b =2\n",
    "eval(concat(concat(str(a),str(chr(ord(\"*\")))),str(b)))"
   ]
  },
  {
   "cell_type": "code",
   "execution_count": null,
   "metadata": {},
   "outputs": [],
   "source": []
  }
 ],
 "metadata": {
  "kernelspec": {
   "display_name": "Python 3.10.2 64-bit",
   "language": "python",
   "name": "python3"
  },
  "language_info": {
   "codemirror_mode": {
    "name": "ipython",
    "version": 3
   },
   "file_extension": ".py",
   "mimetype": "text/x-python",
   "name": "python",
   "nbconvert_exporter": "python",
   "pygments_lexer": "ipython3",
   "version": "3.10.2"
  },
  "orig_nbformat": 4,
  "vscode": {
   "interpreter": {
    "hash": "eeb10d17b3756d073ffb5f4d3818e34351524a6d440d7523aa8639b2cdd885e7"
   }
  }
 },
 "nbformat": 4,
 "nbformat_minor": 2
}
