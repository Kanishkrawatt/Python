{
 "cells": [
  {
   "cell_type": "code",
   "execution_count": 4,
   "metadata": {},
   "outputs": [
    {
     "name": "stdout",
     "output_type": "stream",
     "text": [
      " 5  2  3  4  1 "
     ]
    }
   ],
   "source": [
    "# Program to interchange first and last elements in a list \n",
    "arr = []\n",
    "for i in range(int(input(\"Enter the size of the List : \" ))):\n",
    "    arr.append(int(input(f\"Enter the Number in the {i} th index : \")))\n",
    "    \n",
    "def Interchange(array):\n",
    "    array[0],array[-1]= array[-1],array[0]\n",
    "def main():\n",
    "    Interchange(arr)\n",
    "    for i in arr:\n",
    "        print(f\" {i} \",end=\"\")\n",
    "if __name__ == '__main__':\n",
    "    main()"
   ]
  },
  {
   "cell_type": "code",
   "execution_count": 5,
   "metadata": {},
   "outputs": [
    {
     "name": "stdout",
     "output_type": "stream",
     "text": [
      " 2  1  3  4 "
     ]
    }
   ],
   "source": [
    "arr = []\n",
    "for i in range(int(input(\"Enter the size of the List : \" ))):\n",
    "    arr.append(int(input(f\"Enter the Number in the {i} th index : \")))\n",
    "\n",
    "def Interchange(array,Fpos,Lpos):\n",
    "    array[Fpos],array[Lpos]= array[Lpos],array[Fpos]\n",
    "def main():\n",
    "    Interchange(arr,0,1)\n",
    "    for i in arr:\n",
    "        print(f\" {i} \",end=\"\")\n",
    "if __name__ == '__main__':\n",
    "    main()"
   ]
  },
  {
   "cell_type": "code",
   "execution_count": 7,
   "metadata": {},
   "outputs": [
    {
     "name": "stdout",
     "output_type": "stream",
     "text": [
      "Exist\n"
     ]
    }
   ],
   "source": [
    "# Different ways to check the Element Exist in list\n",
    "arr = [1,2,3,4]\n",
    "if(arr.count(int(input(\"Enter the Number To check if Exist\")))==0):\n",
    "    print(\"Not Exist\")\n",
    "else:\n",
    "    print(\"Exist\")\n"
   ]
  },
  {
   "cell_type": "code",
   "execution_count": 11,
   "metadata": {},
   "outputs": [
    {
     "name": "stdout",
     "output_type": "stream",
     "text": [
      "Exist\n"
     ]
    }
   ],
   "source": [
    "# Different ways to check the Element Exist in list\n",
    "arr = [1,2,3,4]\n",
    "if int(input(\"Enter The nUmber\")) in arr:\n",
    "    print(\"Exist\")\n",
    "else:\n",
    "    print(\"Not exist\")"
   ]
  },
  {
   "cell_type": "code",
   "execution_count": 16,
   "metadata": {},
   "outputs": [
    {
     "name": "stdout",
     "output_type": "stream",
     "text": [
      "Not Exist\n"
     ]
    }
   ],
   "source": [
    "# Different ways to check the Element Exist in list\n",
    "arr = [1,2,3,4]\n",
    "try:\n",
    "    if(arr.index(int(input(\"Enter the Number\")))):\n",
    "        print(\"Exist\")\n",
    "except:\n",
    "    print(\"Not Exist\")"
   ]
  },
  {
   "cell_type": "code",
   "execution_count": 21,
   "metadata": {},
   "outputs": [
    {
     "name": "stdout",
     "output_type": "stream",
     "text": [
      "(0, 1)\n",
      "(1, 2)\n",
      "(2, 3)\n",
      "(3, 4)\n"
     ]
    }
   ],
   "source": [
    "# Different ways to check the Element Exist in list\n",
    "arr = [1,2,3,4]\n",
    "for i in enumerate(arr):\n",
    "    print(i)\n",
    "for i,v in enumerate(arr):\n",
    "    print(i,v)"
   ]
  },
  {
   "cell_type": "code",
   "execution_count": 36,
   "metadata": {},
   "outputs": [
    {
     "name": "stdout",
     "output_type": "stream",
     "text": [
      "[1, 4, 9]\n"
     ]
    }
   ],
   "source": [
    "arr =[1,2,3]\n",
    "for i in range(len(arr)):\n",
    "    arr[i] = arr[i]**2\n",
    "print(arr)\n",
    "# ----- ------\n",
    "for i in arr:\n",
    "    arr[arr.index(i)] = i**2\n",
    "print(arr)\n",
    "# ----- ------\n",
    "arr=[1,2,3]\n",
    "arr = [i*i for i in arr]\n",
    "print(arr)\n"
   ]
  },
  {
   "cell_type": "code",
   "execution_count": 38,
   "metadata": {},
   "outputs": [
    {
     "name": "stdout",
     "output_type": "stream",
     "text": [
      "[2, 4]\n",
      "15\n"
     ]
    }
   ],
   "source": [
    "# python program to print all  even Number in List\n",
    "arr =[1,2,3,4,5]\n",
    "print([i for i in arr if i%2==0])\n",
    "print(sum(arr))\n"
   ]
  },
  {
   "cell_type": "code",
   "execution_count": 39,
   "metadata": {},
   "outputs": [
    {
     "name": "stdout",
     "output_type": "stream",
     "text": [
      "4\n"
     ]
    }
   ],
   "source": [
    "arr = [1,2,3,4,5]\n",
    "arr.sort()\n",
    "print(arr[-2])"
   ]
  },
  {
   "cell_type": "code",
   "execution_count": 41,
   "metadata": {},
   "outputs": [
    {
     "name": "stdout",
     "output_type": "stream",
     "text": [
      "4\n"
     ]
    }
   ],
   "source": [
    "arr = [1,2,3,4]\n",
    "print(sum([i for i in arr if i%2!=0]))"
   ]
  },
  {
   "cell_type": "code",
   "execution_count": null,
   "metadata": {},
   "outputs": [],
   "source": []
  }
 ],
 "metadata": {
  "kernelspec": {
   "display_name": "Python 3.10.2 64-bit",
   "language": "python",
   "name": "python3"
  },
  "language_info": {
   "codemirror_mode": {
    "name": "ipython",
    "version": 3
   },
   "file_extension": ".py",
   "mimetype": "text/x-python",
   "name": "python",
   "nbconvert_exporter": "python",
   "pygments_lexer": "ipython3",
   "version": "3.10.2"
  },
  "orig_nbformat": 4,
  "vscode": {
   "interpreter": {
    "hash": "eeb10d17b3756d073ffb5f4d3818e34351524a6d440d7523aa8639b2cdd885e7"
   }
  }
 },
 "nbformat": 4,
 "nbformat_minor": 2
}
