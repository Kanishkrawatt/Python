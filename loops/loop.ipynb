{
 "cells": [
  {
   "cell_type": "markdown",
   "metadata": {},
   "source": [
    "Loop : In Python There are Two Types of Loops \n",
    "* For Loop\n",
    "* While Loop"
   ]
  },
  {
   "cell_type": "code",
   "execution_count": 1,
   "metadata": {},
   "outputs": [
    {
     "name": "stdout",
     "output_type": "stream",
     "text": [
      "0 1 2 3 4 End of For Loop 4\n"
     ]
    }
   ],
   "source": [
    "for i in range(5):\n",
    "    print(i,end=' ')\n",
    "else:\n",
    "    print(\"End of For Loop\",i)"
   ]
  },
  {
   "cell_type": "code",
   "execution_count": 2,
   "metadata": {},
   "outputs": [
    {
     "name": "stdout",
     "output_type": "stream",
     "text": [
      "1 2 3 4 "
     ]
    }
   ],
   "source": [
    "for i in range(1,5):\n",
    "    print(i,end=' ')\n"
   ]
  },
  {
   "cell_type": "code",
   "execution_count": 3,
   "metadata": {},
   "outputs": [
    {
     "name": "stdout",
     "output_type": "stream",
     "text": [
      "10 12 14 "
     ]
    }
   ],
   "source": [
    "for i in range(10,15,2):\n",
    "    print(i,end=\" \")"
   ]
  },
  {
   "cell_type": "code",
   "execution_count": 4,
   "metadata": {},
   "outputs": [
    {
     "name": "stdout",
     "output_type": "stream",
     "text": [
      "4 x 1\t= 4\n",
      "4 x 2\t= 8\n",
      "4 x 3\t= 12\n",
      "4 x 4\t= 16\n",
      "4 x 5\t= 20\n",
      "4 x 6\t= 24\n",
      "4 x 7\t= 28\n",
      "4 x 8\t= 32\n",
      "4 x 9\t= 36\n",
      "4 x 10\t= 40\n"
     ]
    }
   ],
   "source": [
    "# Print The Table of any number \n",
    "# Solution1\n",
    "n = int(input(\"Enter the Number\"))\n",
    "for i in range(1,11):\n",
    "    print(f\"{n} x {i}\\t= {i*n}\")"
   ]
  },
  {
   "cell_type": "code",
   "execution_count": 5,
   "metadata": {},
   "outputs": [
    {
     "name": "stdout",
     "output_type": "stream",
     "text": [
      "6 x 1\t= 6\n",
      "6 x 2\t= 12\n",
      "6 x 3\t= 18\n",
      "6 x 4\t= 24\n",
      "6 x 5\t= 30\n",
      "6 x 6\t= 36\n",
      "6 x 7\t= 42\n",
      "6 x 8\t= 48\n",
      "6 x 9\t= 54\n",
      "6 x 10\t= 60\n"
     ]
    }
   ],
   "source": [
    "# Solution2\n",
    "\n",
    "n = int(input(\"Enter the Number\"))\n",
    "count = 0\n",
    "for i in range(n,n*10+1,n):\n",
    "    count+=1\n",
    "    print(f\"{n} x {count}\\t= {i}\")"
   ]
  },
  {
   "cell_type": "code",
   "execution_count": 6,
   "metadata": {},
   "outputs": [
    {
     "name": "stdout",
     "output_type": "stream",
     "text": [
      "32\n"
     ]
    }
   ],
   "source": [
    "# Accept 10 numbers from user find the sum of all the numbers\n",
    "# Solution1\n",
    "a = list(map(int,input().split(\" \")))\n",
    "print(sum(a))"
   ]
  },
  {
   "cell_type": "code",
   "execution_count": 7,
   "metadata": {},
   "outputs": [
    {
     "name": "stdout",
     "output_type": "stream",
     "text": [
      "2\n",
      "3\n",
      "4\n",
      "5\n",
      "6\n"
     ]
    }
   ],
   "source": [
    "# Solution2\n",
    "a = input().split(\" \")\n",
    "for i in range(len(a)):\n",
    "    print(int(a[i]))"
   ]
  },
  {
   "cell_type": "code",
   "execution_count": 10,
   "metadata": {},
   "outputs": [
    {
     "name": "stdout",
     "output_type": "stream",
     "text": [
      "max =  10\n"
     ]
    }
   ],
   "source": [
    "# find out the greates Number in 10 numbers\n",
    "# solution1\n",
    "a = int(input(\"Enter the number\"))\n",
    "max = a\n",
    "for i in range(9):\n",
    "    b = int(input(\"Enter the Number\"))\n",
    "    if(b>max):\n",
    "        max=b\n",
    "print(\"max = \",max)\n",
    "    "
   ]
  },
  {
   "cell_type": "code",
   "execution_count": 11,
   "metadata": {},
   "outputs": [
    {
     "name": "stdout",
     "output_type": "stream",
     "text": [
      "max= 9\n"
     ]
    }
   ],
   "source": [
    "#solution2\n",
    "a = list(map(int,input().split()))\n",
    "b=sorted(a)\n",
    "print(\"max=\",b[-1])"
   ]
  },
  {
   "cell_type": "code",
   "execution_count": 2,
   "metadata": {},
   "outputs": [
    {
     "name": "stdout",
     "output_type": "stream",
     "text": [
      "Not Prime\n"
     ]
    }
   ],
   "source": [
    "#  Q Wap to find that given Number is Prime or Not\n",
    "n = int (input(\"Enter any Number\"))\n",
    "f=1\n",
    "for i in range(2,n//2+1):\n",
    "    if n%i ==0:\n",
    "        f=0\n",
    "        break\n",
    "if f ==0:\n",
    "    print(\"Not Prime\")\n",
    "else:\n",
    "    print(\"Prime\")"
   ]
  },
  {
   "cell_type": "code",
   "execution_count": 17,
   "metadata": {},
   "outputs": [
    {
     "name": "stdout",
     "output_type": "stream",
     "text": [
      "1 + 4 + 9 + 16 + 25 = 55\n"
     ]
    }
   ],
   "source": [
    "n = int(input(\"Enter the Value of N\"))\n",
    "sum =0\n",
    "for i in range(1,n+1):\n",
    "    sum += (i**2)\n",
    "    print(i**2,end=\" + \")\n",
    "    \n",
    "print(\"\\b\\b=\",sum)\n",
    "\n"
   ]
  },
  {
   "cell_type": "code",
   "execution_count": 21,
   "metadata": {},
   "outputs": [
    {
     "name": "stdout",
     "output_type": "stream",
     "text": [
      "1/1 + 2/4 + 3/9 + 4/16 + 5/25 =  2.283333333333333\n"
     ]
    }
   ],
   "source": [
    "n = int(input(\"Enter the Value of N\"))\n",
    "sum =0\n",
    "for i in range(1,n+1):\n",
    "    sum += (i/(i**2))\n",
    "    print(i,\"/\",i**2 ,sep=\"\",end=\" + \")\n",
    "print(\"\\b\\b= \",sum)\n",
    "\n"
   ]
  },
  {
   "cell_type": "code",
   "execution_count": 19,
   "metadata": {},
   "outputs": [
    {
     "name": "stdout",
     "output_type": "stream",
     "text": [
      "1#1\n",
      "1#2\n",
      "1#3\n",
      "1#4\n",
      "2#1\n",
      "2#2\n",
      "2#3\n",
      "2#4\n",
      "3#1\n",
      "3#2\n",
      "3#3\n",
      "3#4\n"
     ]
    }
   ],
   "source": [
    "for i in range(1,4):\n",
    "    for j in range(1,5):\n",
    "        print(i,j,sep=\"#\")"
   ]
  },
  {
   "cell_type": "code",
   "execution_count": null,
   "metadata": {},
   "outputs": [],
   "source": [
    "for i in range(5):\n",
    "    for j in range(i):\n",
    "        print(j,end=\" \")\n",
    "    print()"
   ]
  }
 ],
 "metadata": {
  "kernelspec": {
   "display_name": "Python 3.10.2 64-bit",
   "language": "python",
   "name": "python3"
  },
  "language_info": {
   "codemirror_mode": {
    "name": "ipython",
    "version": 3
   },
   "file_extension": ".py",
   "mimetype": "text/x-python",
   "name": "python",
   "nbconvert_exporter": "python",
   "pygments_lexer": "ipython3",
   "version": "3.10.2"
  },
  "orig_nbformat": 4,
  "vscode": {
   "interpreter": {
    "hash": "eeb10d17b3756d073ffb5f4d3818e34351524a6d440d7523aa8639b2cdd885e7"
   }
  }
 },
 "nbformat": 4,
 "nbformat_minor": 2
}
