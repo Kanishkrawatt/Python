{
 "cells": [
  {
   "cell_type": "markdown",
   "metadata": {},
   "source": [
    "Find= To find the any char\n",
    "<br>RFind= To find the char from the right side\n",
    "<br>**It return  the index of that character**"
   ]
  },
  {
   "cell_type": "code",
   "execution_count": 1,
   "metadata": {},
   "outputs": [
    {
     "name": "stdout",
     "output_type": "stream",
     "text": [
      "1\n"
     ]
    }
   ],
   "source": [
    "str = \"HelloWorld\"\n",
    "print(str.find('e'))\n"
   ]
  },
  {
   "cell_type": "code",
   "execution_count": 2,
   "metadata": {},
   "outputs": [
    {
     "name": "stdout",
     "output_type": "stream",
     "text": [
      "7\n"
     ]
    }
   ],
   "source": [
    "str = \"HelloWorld\"\n",
    "print(str.rfind('r'))"
   ]
  },
  {
   "cell_type": "markdown",
   "metadata": {},
   "source": [
    "String Function\n",
    "1. Capitalize()\n",
    "2. Title()\n",
    "3. Upper()\n",
    "4. Lower()\n",
    "5. Swapcase()\n",
    "6. Replace()"
   ]
  },
  {
   "cell_type": "code",
   "execution_count": 3,
   "metadata": {},
   "outputs": [
    {
     "name": "stdout",
     "output_type": "stream",
     "text": [
      "hello\n"
     ]
    }
   ],
   "source": [
    "st=\"hello\"\n",
    "str = st.replace('h','j')"
   ]
  },
  {
   "cell_type": "code",
   "execution_count": 10,
   "metadata": {},
   "outputs": [
    {
     "name": "stdout",
     "output_type": "stream",
     "text": [
      "['1', '2', '3', '4', '5']\n"
     ]
    }
   ],
   "source": [
    "str=\"1,2,3,4,5\"\n",
    "print(str.split(','))"
   ]
  },
  {
   "cell_type": "code",
   "execution_count": 11,
   "metadata": {},
   "outputs": [
    {
     "name": "stdout",
     "output_type": "stream",
     "text": [
      "('abcdefgh', 'i', 'jklmnopqrstuvwxyz')\n"
     ]
    }
   ],
   "source": [
    "str=\"abcdefghijklmnopqrstuvwxyz\"\n",
    "print(str.partition('i'))"
   ]
  },
  {
   "cell_type": "code",
   "execution_count": 21,
   "metadata": {},
   "outputs": [
    {
     "name": "stdout",
     "output_type": "stream",
     "text": [
      "aeffjjk\n"
     ]
    }
   ],
   "source": [
    "str = input(\"Enter the String\")\n",
    "str.lower()\n",
    "str1 = sorted(str)\n",
    "str2 = \"\"\n",
    "for i in sorted(str):\n",
    "    if(i.isalpha()==True):\n",
    "        str2 += i\n",
    "print(str2)\n",
    "        \n"
   ]
  },
  {
   "cell_type": "code",
   "execution_count": 24,
   "metadata": {},
   "outputs": [
    {
     "name": "stdout",
     "output_type": "stream",
     "text": [
      "9013366855\n"
     ]
    }
   ],
   "source": [
    "str = input(\"Enter\")\n",
    "number = \"\"\n",
    "if str[0]=='6' or str[0]=='7' or str[0]=='9':\n",
    "    if len(str)==10:\n",
    "        temp=0\n",
    "        for i in str:\n",
    "            if(str.count(i)>7):\n",
    "                temp =1\n",
    "        if(temp==0):\n",
    "            number = str\n",
    "else:\n",
    "    print(\"no Number\")\n",
    "print(number)"
   ]
  },
  {
   "cell_type": "code",
   "execution_count": 6,
   "metadata": {},
   "outputs": [
    {
     "name": "stdout",
     "output_type": "stream",
     "text": [
      "*******Hello********\n"
     ]
    }
   ],
   "source": [
    "text = \"Hello\" \n",
    "print(text.center(20, '*'))\n"
   ]
  }
 ],
 "metadata": {
  "kernelspec": {
   "display_name": "Python 3.10.2 64-bit",
   "language": "python",
   "name": "python3"
  },
  "language_info": {
   "codemirror_mode": {
    "name": "ipython",
    "version": 3
   },
   "file_extension": ".py",
   "mimetype": "text/x-python",
   "name": "python",
   "nbconvert_exporter": "python",
   "pygments_lexer": "ipython3",
   "version": "3.10.2"
  },
  "orig_nbformat": 4,
  "vscode": {
   "interpreter": {
    "hash": "eeb10d17b3756d073ffb5f4d3818e34351524a6d440d7523aa8639b2cdd885e7"
   }
  }
 },
 "nbformat": 4,
 "nbformat_minor": 2
}
