{
 "cells": [
  {
   "cell_type": "code",
   "execution_count": 9,
   "metadata": {},
   "outputs": [
    {
     "name": "stdout",
     "output_type": "stream",
     "text": [
      "test.txt\n",
      "r+\n",
      "fjaldjfkajfje\n",
      "akfjla\n"
     ]
    }
   ],
   "source": [
    "with open(\"test.txt\",\"r+\") as test:\n",
    "    print(test.name)\n",
    "    print(test.mode)\n",
    "    # for i in test:\n",
    "    #     print(i.strip(),end=\"\")\n",
    "    print(test.read(20))"
   ]
  },
  {
   "cell_type": "code",
   "execution_count": 14,
   "metadata": {},
   "outputs": [],
   "source": [
    "test1 = open(\"test.txt\",\"r\") \n",
    "\n",
    "s = test1.readline()\n"
   ]
  },
  {
   "cell_type": "code",
   "execution_count": 26,
   "metadata": {},
   "outputs": [
    {
     "name": "stdout",
     "output_type": "stream",
     "text": [
      "akfjlajefjae\n",
      "\n"
     ]
    }
   ],
   "source": [
    "linenum = int(input(\"Enter the Line Number\"))\n",
    "\n",
    "with open(\"test.txt\",\"r\") as test:\n",
    "    i=1\n",
    "    s = test.readline()\n",
    "    while(s!=\"\"):\n",
    "        s= test.readline()\n",
    "        if(i==linenum):\n",
    "            print(s)\n",
    "            break\n",
    "        i+=1\n",
    "    if(i<linenum):\n",
    "        print(\"Not Possible\")\n"
   ]
  },
  {
   "cell_type": "code",
   "execution_count": null,
   "metadata": {},
   "outputs": [],
   "source": []
  },
  {
   "cell_type": "code",
   "execution_count": null,
   "metadata": {},
   "outputs": [],
   "source": []
  }
 ],
 "metadata": {
  "kernelspec": {
   "display_name": "Python 3",
   "language": "python",
   "name": "python3"
  },
  "language_info": {
   "codemirror_mode": {
    "name": "ipython",
    "version": 3
   },
   "file_extension": ".py",
   "mimetype": "text/x-python",
   "name": "python",
   "nbconvert_exporter": "python",
   "pygments_lexer": "ipython3",
   "version": "3.10.2"
  },
  "orig_nbformat": 4,
  "vscode": {
   "interpreter": {
    "hash": "eeb10d17b3756d073ffb5f4d3818e34351524a6d440d7523aa8639b2cdd885e7"
   }
  }
 },
 "nbformat": 4,
 "nbformat_minor": 2
}
