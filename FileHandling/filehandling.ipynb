{
 "cells": [
  {
   "cell_type": "code",
   "execution_count": 2,
   "metadata": {},
   "outputs": [
    {
     "name": "stdout",
     "output_type": "stream",
     "text": [
      "test.txt\n",
      "r+\n",
      "f\n"
     ]
    }
   ],
   "source": [
    "with open(\"test.txt\",\"r+\") as test:\n",
    "    print(test.name)\n",
    "    print(test.mode)\n",
    "    # for i in test:\n",
    "    #     print(i.strip(),end=\"\")\n",
    "    print(test.read(1))"
   ]
  },
  {
   "cell_type": "code",
   "execution_count": 14,
   "metadata": {},
   "outputs": [],
   "source": [
    "test1 = open(\"test.txt\",\"r\") \n",
    "\n",
    "s = test1.readline()\n"
   ]
  },
  {
   "cell_type": "code",
   "execution_count": 4,
   "metadata": {},
   "outputs": [
    {
     "name": "stdout",
     "output_type": "stream",
     "text": [
      "Not Possible\n"
     ]
    }
   ],
   "source": [
    "linenum = int(input(\"Enter the Line Number\"))\n",
    "\n",
    "with open(\"test.txt\",\"r\") as test:\n",
    "    i=1\n",
    "    s = test.tell()\n",
    "    while(s!=\"\"):\n",
    "        s= test.readline()\n",
    "        if(i==linenum):\n",
    "            print(s)\n",
    "            break\n",
    "        i+=1\n",
    "    if(i<linenum):\n",
    "        print(\"Not Possible\")\n"
   ]
  },
  {
   "cell_type": "code",
   "execution_count": 11,
   "metadata": {},
   "outputs": [
    {
     "name": "stdout",
     "output_type": "stream",
     "text": [
      "fjaldjfkajfje\n",
      "Line Length :  15\n",
      "akfjlajefjae\n",
      "Line Length :  14\n",
      "faklfewkjflajeklfa\n",
      "Line Length :  20\n",
      "jef\n",
      "Line Length :  3\n"
     ]
    }
   ],
   "source": [
    "with open(\"test.txt\") as t:\n",
    "    prev = 0\n",
    "    line = t.readline()\n",
    "    while(line!=\"\"):\n",
    "        pos = t.tell()\n",
    "        print(line.strip())\n",
    "        print(\"Line Length : \",pos-prev)\n",
    "        prev = pos\n",
    "        line = t.readline()\n",
    "        "
   ]
  },
  {
   "cell_type": "code",
   "execution_count": 15,
   "metadata": {},
   "outputs": [],
   "source": [
    "names = list(input(\"Enter Names\").split())\n",
    "with open(\"test1.txt\",\"w\") as file:\n",
    "    for i in names:\n",
    "        file.write(i+\"\\n\")\n",
    "    \n"
   ]
  },
  {
   "cell_type": "code",
   "execution_count": 23,
   "metadata": {},
   "outputs": [],
   "source": [
    "with open('data.txt',\"r+\") as file:\n",
    "    for i in range(10):\n",
    "        a = input(\"Enter Number\")\n",
    "        file.write(a+\"\\n\")\n",
    "    for i in file.readlines():\n",
    "        if(int(i)%2==0):\n",
    "            with open(\"even.txt\",\"a\") as even:\n",
    "                even.write(i+\"\\n\")\n",
    "                break\n",
    "        with open(\"odd.txt\",\"a\") as odd:\n",
    "            odd.write(i+\"\\n\")\n",
    "\n",
    "\n"
   ]
  },
  {
   "cell_type": "code",
   "execution_count": null,
   "metadata": {},
   "outputs": [],
   "source": []
  }
 ],
 "metadata": {
  "kernelspec": {
   "display_name": "Python 3",
   "language": "python",
   "name": "python3"
  },
  "language_info": {
   "codemirror_mode": {
    "name": "ipython",
    "version": 3
   },
   "file_extension": ".py",
   "mimetype": "text/x-python",
   "name": "python",
   "nbconvert_exporter": "python",
   "pygments_lexer": "ipython3",
   "version": "3.10.2 (tags/v3.10.2:a58ebcc, Jan 17 2022, 14:12:15) [MSC v.1929 64 bit (AMD64)]"
  },
  "orig_nbformat": 4,
  "vscode": {
   "interpreter": {
    "hash": "eeb10d17b3756d073ffb5f4d3818e34351524a6d440d7523aa8639b2cdd885e7"
   }
  }
 },
 "nbformat": 4,
 "nbformat_minor": 2
}
