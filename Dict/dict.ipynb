{
 "cells": [
  {
   "cell_type": "code",
   "execution_count": 1,
   "metadata": {},
   "outputs": [
    {
     "name": "stdout",
     "output_type": "stream",
     "text": [
      "<zip object at 0x00000247681DDB80>\n"
     ]
    }
   ],
   "source": []
  },
  {
   "cell_type": "code",
   "execution_count": 2,
   "metadata": {},
   "outputs": [
    {
     "name": "stdout",
     "output_type": "stream",
     "text": [
      "1 5\n",
      "2 6\n",
      "4 7\n"
     ]
    }
   ],
   "source": [
    "t1 = (1,2,4)\n",
    "t2 = (5,6,7)\n",
    "p = zip(t1,t2)\n",
    "for i,j in p:\n",
    "    print(i,j)"
   ]
  },
  {
   "cell_type": "code",
   "execution_count": 4,
   "metadata": {},
   "outputs": [
    {
     "name": "stdout",
     "output_type": "stream",
     "text": [
      "{'my': 2, 'name': 2, 'is': 2, 'kanishk': 1}\n"
     ]
    }
   ],
   "source": [
    "a = input(\"Enter the Sentence\")\n",
    "d={}\n",
    "for i in a.split(\" \"):\n",
    "    if i in d.keys():\n",
    "        d[i] +=1\n",
    "        continue    \n",
    "    d[i]=1\n",
    "print(d)"
   ]
  },
  {
   "cell_type": "code",
   "execution_count": 16,
   "metadata": {},
   "outputs": [
    {
     "name": "stdout",
     "output_type": "stream",
     "text": [
      "{3: 30, 4: 40, 1: 10, 2: 20}\n"
     ]
    }
   ],
   "source": [
    "dic1 = {1:10,2:20}\n",
    "dic2 = {3:30,4:40}\n",
    "dic2.update(dic1)\n",
    "print(dic2)"
   ]
  },
  {
   "cell_type": "code",
   "execution_count": 72,
   "metadata": {},
   "outputs": [
    {
     "name": "stdout",
     "output_type": "stream",
     "text": [
      "{1: 10, 3: 30, 4: 40}\n"
     ]
    }
   ],
   "source": [
    "d1 = {1:10,2:20,3:30,4:40,5:20}\n",
    "# d1.clear()    return {}\n",
    "# d1.pop(2)     pop only one key:value pair\n",
    "# print(d1.pop(6,\"not exist\"))  return value of that key\n",
    "# del(d1)       delete dic from the memory\n",
    "# del(d1[2])\n",
    "# d1.popitem()  pop the last item\n",
    "# d1.pop()\n",
    "# x = 20\n",
    "# delete=[]\n",
    "# for i,j in d1.items():\n",
    "#     if(j==x):\n",
    "#         delete.append(i)\n",
    "# for i in delete:\n",
    "#     d1.pop(i)\n",
    "print(d1)\n"
   ]
  },
  {
   "cell_type": "code",
   "execution_count": 71,
   "metadata": {},
   "outputs": [
    {
     "name": "stdout",
     "output_type": "stream",
     "text": [
      "{1: 10, 3: 30, 4: 40}\n"
     ]
    }
   ],
   "source": [
    "x=20\n",
    "d2 = {i:j for i,j in d1.items() if j!=x}\n",
    "print(d2)   "
   ]
  },
  {
   "cell_type": "code",
   "execution_count": 17,
   "metadata": {},
   "outputs": [
    {
     "name": "stdout",
     "output_type": "stream",
     "text": [
      "[10, 20, 30, 40, 20] [1, 2, 3, 4, 5]\n",
      "{1: 10, 2: 20, 4: 40, 5: 20}\n"
     ]
    }
   ],
   "source": [
    "d1 = {1:10,2:20,3:30,4:40,5:20}\n",
    "count = 0\n",
    "for i in d1.values():\n",
    "    count +=i\n",
    "# print([(i,j) for i in d1 for j in set(d1.values())])\n",
    "# d3 = {i:j for i,j in d1.items() if j in set(d1.values())}\n",
    "lvalue = [i for i in d1.values()]\n",
    "lkey = [i for i in d1.keys()]\n",
    "print(lvalue,lkey)\n",
    "p=lkey[lvalue.index(20)]\n",
    "del(d1[lkey[p]])\n",
    "print(d1)"
   ]
  },
  {
   "cell_type": "code",
   "execution_count": 21,
   "metadata": {},
   "outputs": [
    {
     "name": "stdout",
     "output_type": "stream",
     "text": [
      "{1: 10, 5: 20, 4: 40}\n"
     ]
    }
   ],
   "source": [
    "d2= {j:i for i,j in d1.items()}\n",
    "d3 ={}\n",
    "for i,j in d2.items():\n",
    "    if i not in d3.keys():\n",
    "        d3[i]=j\n",
    "d3 = {j:i for i,j in d3.items()}\n",
    "print(d3)"
   ]
  },
  {
   "cell_type": "code",
   "execution_count": null,
   "metadata": {},
   "outputs": [],
   "source": []
  }
 ],
 "metadata": {
  "kernelspec": {
   "display_name": "Python 3.10.2 64-bit",
   "language": "python",
   "name": "python3"
  },
  "language_info": {
   "codemirror_mode": {
    "name": "ipython",
    "version": 3
   },
   "file_extension": ".py",
   "mimetype": "text/x-python",
   "name": "python",
   "nbconvert_exporter": "python",
   "pygments_lexer": "ipython3",
   "version": "3.10.2"
  },
  "orig_nbformat": 4,
  "vscode": {
   "interpreter": {
    "hash": "eeb10d17b3756d073ffb5f4d3818e34351524a6d440d7523aa8639b2cdd885e7"
   }
  }
 },
 "nbformat": 4,
 "nbformat_minor": 2
}
