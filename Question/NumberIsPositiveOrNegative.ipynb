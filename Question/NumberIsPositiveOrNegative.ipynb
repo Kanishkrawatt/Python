{
 "cells": [
  {
   "cell_type": "markdown",
   "metadata": {},
   "source": [
    "Wap to Accept a value from user find out the Number is +ve or -ve"
   ]
  },
  {
   "cell_type": "code",
   "execution_count": 3,
   "metadata": {},
   "outputs": [
    {
     "name": "stdout",
     "output_type": "stream",
     "text": [
      "10 is Positive\n"
     ]
    }
   ],
   "source": [
    "num = int(input())\n",
    "if(num>0):\n",
    "    print(f\"{num} is Positive\")\n",
    "elif(num<0):\n",
    "    print(f\"{num} is Negative\")\n",
    "else:\n",
    "    print(f\"{num} is Zero\")"
   ]
  },
  {
   "cell_type": "markdown",
   "metadata": {},
   "source": [
    "Wap to Accept A value from user and Find out the Number is Even or Odd"
   ]
  },
  {
   "cell_type": "code",
   "execution_count": 4,
   "metadata": {},
   "outputs": [
    {
     "name": "stdout",
     "output_type": "stream",
     "text": [
      "6 is even\n"
     ]
    }
   ],
   "source": [
    "num = int(input())\n",
    "if(num%2==0):\n",
    "    print(f\"{num} is even\")\n",
    "else:\n",
    "    print(f\"{num} is odd\")"
   ]
  },
  {
   "cell_type": "markdown",
   "metadata": {},
   "source": [
    "Ternary Operator\n",
    "```\n",
    "a if(a>b) else b\n",
    "\n",
    "```"
   ]
  },
  {
   "cell_type": "markdown",
   "metadata": {},
   "source": [
    "Wap to Find out the greates number in two numbers"
   ]
  },
  {
   "cell_type": "code",
   "execution_count": 1,
   "metadata": {},
   "outputs": [
    {
     "name": "stdout",
     "output_type": "stream",
     "text": [
      "8 is Greater\n"
     ]
    }
   ],
   "source": [
    "a = int(input(\"Enter the First Number\"))\n",
    "b = int(input(\"Enter the Second Number\"))\n",
    "if(a>b):\n",
    "    print(a,\"is Greater\")\n",
    "elif(b>a):\n",
    "    print(b,\"is Greater\")\n",
    "else:\n",
    "    print(\"Both are Equal\")"
   ]
  },
  {
   "cell_type": "markdown",
   "metadata": {},
   "source": [
    "Wap to find the greates number of Three "
   ]
  },
  {
   "cell_type": "code",
   "execution_count": 12,
   "metadata": {},
   "outputs": [
    {
     "name": "stdout",
     "output_type": "stream",
     "text": [
      "5\n"
     ]
    }
   ],
   "source": [
    "# With Nested If else\n",
    "a = int(input(\"Enter the First Number\"))\n",
    "b = int(input(\"Enter the Second Number\"))\n",
    "c = int(input(\"Enter the Third Number\"))\n",
    "if a>b:\n",
    "    if(a>c):\n",
    "        print(a)\n",
    "    else:\n",
    "        print(c)\n",
    "elif b>c:\n",
    "    print(b)\n",
    "else:\n",
    "    print(c)"
   ]
  },
  {
   "cell_type": "code",
   "execution_count": 11,
   "metadata": {},
   "outputs": [
    {
     "name": "stdout",
     "output_type": "stream",
     "text": [
      "5\n"
     ]
    }
   ],
   "source": [
    "# With Logical operation\n",
    "a = int(input(\"Enter the First Number\"))\n",
    "b = int(input(\"Enter the Second Number\"))\n",
    "c = int(input(\"Enter the Third Number\"))\n",
    "if a>b and a>c:\n",
    "    print(a)\n",
    "elif b>c:\n",
    "    print(b)\n",
    "else:\n",
    "    print(c)"
   ]
  },
  {
   "cell_type": "code",
   "execution_count": 21,
   "metadata": {},
   "outputs": [
    {
     "name": "stdout",
     "output_type": "stream",
     "text": [
      "1\n"
     ]
    }
   ],
   "source": [
    "# With conditional operation\n",
    "a = int(input(\"Enter the First Number\"))\n",
    "b = int(input(\"Enter the Second Number\"))\n",
    "c = int(input(\"Enter the Third Number\"))\n",
    "\n",
    "max = (a if a>c else c) if(a>b) else (b if b>c else c)\n",
    "# max = a if a>b and a>c else b if b>c else c\n",
    "print(max)"
   ]
  },
  {
   "cell_type": "markdown",
   "metadata": {},
   "source": [
    "A discound of 10% is offered if the quantity purchased is more than 1000. If quantity and price per item are input through the keyboard write a program to calculate the total expenses?"
   ]
  },
  {
   "cell_type": "code",
   "execution_count": 27,
   "metadata": {},
   "outputs": [
    {
     "name": "stdout",
     "output_type": "stream",
     "text": [
      "18036.0\n"
     ]
    }
   ],
   "source": [
    "num = int(input(\"Enter The Price of the Item\"))\n",
    "quantity = int(input(\"Enter the Quantity\"))\n",
    "amount = num*quantity\n",
    "if(quantity>1000):\n",
    "    print(amount-amount*0.1)\n",
    "else:\n",
    "    print(amount)\n"
   ]
  }
 ],
 "metadata": {
  "kernelspec": {
   "display_name": "Python 3.10.2 64-bit",
   "language": "python",
   "name": "python3"
  },
  "language_info": {
   "codemirror_mode": {
    "name": "ipython",
    "version": 3
   },
   "file_extension": ".py",
   "mimetype": "text/x-python",
   "name": "python",
   "nbconvert_exporter": "python",
   "pygments_lexer": "ipython3",
   "version": "3.10.2"
  },
  "orig_nbformat": 4,
  "vscode": {
   "interpreter": {
    "hash": "eeb10d17b3756d073ffb5f4d3818e34351524a6d440d7523aa8639b2cdd885e7"
   }
  }
 },
 "nbformat": 4,
 "nbformat_minor": 2
}
