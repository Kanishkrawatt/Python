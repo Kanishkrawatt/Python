{
 "cells": [
  {
   "cell_type": "code",
   "execution_count": 2,
   "metadata": {},
   "outputs": [
    {
     "name": "stdout",
     "output_type": "stream",
     "text": [
      "Truestudent\n",
      "\n",
      "Bye\n"
     ]
    }
   ],
   "source": [
    "a=10;b=20\n",
    "print(\"Hey student\",end=\"\\r\")\n",
    "if(a%2==b%2):\n",
    "    print(\"True\\n\")\n",
    "else:\n",
    "    print(\"False\")\n",
    "print(\"Bye\")"
   ]
  },
  {
   "cell_type": "code",
   "execution_count": 3,
   "metadata": {},
   "outputs": [
    {
     "name": "stdout",
     "output_type": "stream",
     "text": [
      "Eligible\n"
     ]
    }
   ],
   "source": [
    "a = int(input(\"Enter The Number : \"))\n",
    "print(\"Eligible\") if (a>=18) else print(\"Not Eligible\")"
   ]
  },
  {
   "cell_type": "markdown",
   "metadata": {},
   "source": [
    "ALL , Any"
   ]
  },
  {
   "cell_type": "code",
   "execution_count": 5,
   "metadata": {},
   "outputs": [
    {
     "name": "stdout",
     "output_type": "stream",
     "text": [
      "hey\n"
     ]
    }
   ],
   "source": [
    "if(all((1==1,2==2,3==3))):\n",
    "    print(\"hey\")\n",
    "else: \n",
    "    print(\"No Hey\")"
   ]
  },
  {
   "cell_type": "code",
   "execution_count": 6,
   "metadata": {},
   "outputs": [
    {
     "name": "stdout",
     "output_type": "stream",
     "text": [
      "Hey\n"
     ]
    }
   ],
   "source": [
    "if(any((1,2,0))):\n",
    "    print(\"Hey\")\n",
    "else:\n",
    "    print(\"Not Hey\")"
   ]
  },
  {
   "cell_type": "code",
   "execution_count": null,
   "metadata": {},
   "outputs": [],
   "source": []
  }
 ],
 "metadata": {
  "kernelspec": {
   "display_name": "Python 3.10.2 64-bit",
   "language": "python",
   "name": "python3"
  },
  "language_info": {
   "codemirror_mode": {
    "name": "ipython",
    "version": 3
   },
   "file_extension": ".py",
   "mimetype": "text/x-python",
   "name": "python",
   "nbconvert_exporter": "python",
   "pygments_lexer": "ipython3",
   "version": "3.10.2"
  },
  "orig_nbformat": 4,
  "vscode": {
   "interpreter": {
    "hash": "eeb10d17b3756d073ffb5f4d3818e34351524a6d440d7523aa8639b2cdd885e7"
   }
  }
 },
 "nbformat": 4,
 "nbformat_minor": 2
}
